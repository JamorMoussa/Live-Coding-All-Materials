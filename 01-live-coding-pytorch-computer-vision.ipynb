{
 "cells": [
  {
   "cell_type": "markdown",
   "id": "0d98414a-78ad-4480-b943-b946d27f9662",
   "metadata": {},
   "source": [
    "## Live Coding 2 🎥"
   ]
  },
  {
   "cell_type": "markdown",
   "id": "2e863e33-a374-4e83-821a-c6c0d5f82fe5",
   "metadata": {},
   "source": [
    "# Deep Learning Basics with PyTorch 🔥"
   ]
  },
  {
   "cell_type": "markdown",
   "id": "75f11091-d926-46a9-8455-1fcdcd0e795d",
   "metadata": {},
   "source": [
    "Hi Everyone 👋"
   ]
  },
  {
   "cell_type": "markdown",
   "id": "a87845fc-d36b-405e-82ea-da1bb8275a80",
   "metadata": {},
   "source": [
    "**Daniel's Tutorial:** \n",
    "- https://www.learnpytorch.io/03_pytorch_computer_vision/#what-were-going-to-cover"
   ]
  },
  {
   "cell_type": "markdown",
   "id": "31c0240b-b93c-4cf7-8c73-685b2d99da2d",
   "metadata": {},
   "source": [
    "## 01. What's we're going to cover"
   ]
  },
  {
   "cell_type": "markdown",
   "id": "e83e4d8d-cb5a-47f6-8ba4-c6228f1d5d4e",
   "metadata": {},
   "source": [
    "Today we're going to train ower first vison model using PyTorch 🔥."
   ]
  },
  {
   "cell_type": "markdown",
   "id": "6478ef8a-0409-48f7-b70e-239dc8a2b72b",
   "metadata": {},
   "source": [
    "The **FashionMNIST** dataset: "
   ]
  },
  {
   "cell_type": "markdown",
   "id": "2a9ee7e7-e612-4143-b74f-424f55346e54",
   "metadata": {},
   "source": [
    "<center><img src=\"https://raw.githubusercontent.com/mrdbourke/pytorch-deep-learning/main/images/03-fashion-mnist-slide.png\" width=600px>"
   ]
  },
  {
   "cell_type": "markdown",
   "id": "6f61ecaf-b04d-428f-b8d9-8953b6d5ca43",
   "metadata": {},
   "source": [
    "start to import **PyTorch** and its vison extenstion as **TorchVision**: "
   ]
  },
  {
   "cell_type": "code",
   "execution_count": 4,
   "id": "4c8e4093-3aa9-40ad-8388-842a90274dc9",
   "metadata": {},
   "outputs": [
    {
     "name": "stdout",
     "output_type": "stream",
     "text": [
      "PyTorch version: 2.4.0+cpu\n",
      "torchvision version: 0.19.0+cpu\n"
     ]
    }
   ],
   "source": [
    "# Import PyTorch\n",
    "import torch\n",
    "from torch import nn\n",
    "\n",
    "# Import torchvision \n",
    "import torchvision\n",
    "from torchvision import datasets\n",
    "from torchvision.transforms import ToTensor\n",
    "\n",
    "# Import matplotlib for visualization\n",
    "import matplotlib.pyplot as plt\n",
    "\n",
    "# Check versions\n",
    "# Note: your PyTorch version shouldn't be lower than 1.10.0 and torchvision version shouldn't be lower than 0.11\n",
    "print(f\"PyTorch version: {torch.__version__}\\ntorchvision version: {torchvision.__version__}\")"
   ]
  },
  {
   "cell_type": "code",
   "execution_count": null,
   "id": "9ef5ad81-89bf-4fc7-bfe0-57231b40bcce",
   "metadata": {},
   "outputs": [],
   "source": []
  }
 ],
 "metadata": {
  "kernelspec": {
   "display_name": "Python (ml-env)",
   "language": "python",
   "name": "ml-env"
  },
  "language_info": {
   "codemirror_mode": {
    "name": "ipython",
    "version": 3
   },
   "file_extension": ".py",
   "mimetype": "text/x-python",
   "name": "python",
   "nbconvert_exporter": "python",
   "pygments_lexer": "ipython3",
   "version": "3.11.6"
  }
 },
 "nbformat": 4,
 "nbformat_minor": 5
}
