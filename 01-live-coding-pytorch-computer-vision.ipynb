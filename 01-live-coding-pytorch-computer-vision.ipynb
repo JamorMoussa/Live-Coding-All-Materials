{
 "cells": [
  {
   "cell_type": "markdown",
   "id": "0d98414a-78ad-4480-b943-b946d27f9662",
   "metadata": {},
   "source": [
    "## Live Coding 2 🎥"
   ]
  },
  {
   "cell_type": "markdown",
   "id": "2e863e33-a374-4e83-821a-c6c0d5f82fe5",
   "metadata": {},
   "source": [
    "# Deep Learning Basics with PyTorch 🔥"
   ]
  },
  {
   "cell_type": "markdown",
   "id": "75f11091-d926-46a9-8455-1fcdcd0e795d",
   "metadata": {},
   "source": [
    "Hi Everyone 👋"
   ]
  },
  {
   "cell_type": "markdown",
   "id": "a87845fc-d36b-405e-82ea-da1bb8275a80",
   "metadata": {},
   "source": [
    "**Daniel's Tutorial:** \n",
    "- https://www.learnpytorch.io/03_pytorch_computer_vision/#what-were-going-to-cover"
   ]
  },
  {
   "cell_type": "markdown",
   "id": "31c0240b-b93c-4cf7-8c73-685b2d99da2d",
   "metadata": {},
   "source": [
    "## 01. What's we're going to cover"
   ]
  },
  {
   "cell_type": "markdown",
   "id": "e83e4d8d-cb5a-47f6-8ba4-c6228f1d5d4e",
   "metadata": {},
   "source": [
    "Today we're going to train ower first vison model using PyTorch 🔥."
   ]
  },
  {
   "cell_type": "markdown",
   "id": "6478ef8a-0409-48f7-b70e-239dc8a2b72b",
   "metadata": {},
   "source": [
    "The **FashionMNIST** dataset: "
   ]
  },
  {
   "cell_type": "markdown",
   "id": "2a9ee7e7-e612-4143-b74f-424f55346e54",
   "metadata": {},
   "source": [
    "<center><img src=\"https://raw.githubusercontent.com/mrdbourke/pytorch-deep-learning/main/images/03-fashion-mnist-slide.png\" width=600px>"
   ]
  },
  {
   "cell_type": "markdown",
   "id": "6f61ecaf-b04d-428f-b8d9-8953b6d5ca43",
   "metadata": {},
   "source": [
    "start to import **PyTorch** and its vison extenstion as **TorchVision**: "
   ]
  },
  {
   "cell_type": "code",
   "execution_count": 35,
   "id": "4c8e4093-3aa9-40ad-8388-842a90274dc9",
   "metadata": {},
   "outputs": [
    {
     "name": "stdout",
     "output_type": "stream",
     "text": [
      "PyTorch version: 2.4.0+cpu\n",
      "torchvision version: 0.19.0+cpu\n"
     ]
    }
   ],
   "source": [
    "# Import PyTorch\n",
    "import torch\n",
    "from torch import nn\n",
    "from torch.utils.data import DataLoader, Dataset\n",
    "\n",
    "# Import torchvision \n",
    "import torchvision\n",
    "from torchvision import datasets\n",
    "from torchvision.transforms import ToTensor\n",
    "\n",
    "# Import matplotlib for visualization\n",
    "import matplotlib.pyplot as plt\n",
    "\n",
    "# Check versions\n",
    "# Note: your PyTorch version shouldn't be lower than 1.10.0 and torchvision version shouldn't be lower than 0.11\n",
    "print(f\"PyTorch version: {torch.__version__}\\ntorchvision version: {torchvision.__version__}\")"
   ]
  },
  {
   "cell_type": "code",
   "execution_count": 11,
   "id": "eca93326-1c54-4343-b35b-d47594649341",
   "metadata": {},
   "outputs": [
    {
     "name": "stdout",
     "output_type": "stream",
     "text": [
      "mkdir: cannot create directory ‘data’: File exists\n"
     ]
    }
   ],
   "source": [
    "!mkdir data"
   ]
  },
  {
   "cell_type": "code",
   "execution_count": 12,
   "id": "9ef5ad81-89bf-4fc7-bfe0-57231b40bcce",
   "metadata": {},
   "outputs": [
    {
     "name": "stdout",
     "output_type": "stream",
     "text": [
      "Downloading http://fashion-mnist.s3-website.eu-central-1.amazonaws.com/train-images-idx3-ubyte.gz\n",
      "Downloading http://fashion-mnist.s3-website.eu-central-1.amazonaws.com/train-images-idx3-ubyte.gz to data/FashionMNIST/raw/train-images-idx3-ubyte.gz\n"
     ]
    },
    {
     "name": "stderr",
     "output_type": "stream",
     "text": [
      "100%|███████████████████████████████████████████████████████████████████████████████████████████████████████████████| 26421880/26421880 [00:16<00:00, 1640901.06it/s]\n"
     ]
    },
    {
     "name": "stdout",
     "output_type": "stream",
     "text": [
      "Extracting data/FashionMNIST/raw/train-images-idx3-ubyte.gz to data/FashionMNIST/raw\n",
      "\n",
      "Downloading http://fashion-mnist.s3-website.eu-central-1.amazonaws.com/train-labels-idx1-ubyte.gz\n",
      "Downloading http://fashion-mnist.s3-website.eu-central-1.amazonaws.com/train-labels-idx1-ubyte.gz to data/FashionMNIST/raw/train-labels-idx1-ubyte.gz\n"
     ]
    },
    {
     "name": "stderr",
     "output_type": "stream",
     "text": [
      "100%|██████████████████████████████████████████████████████████████████████████████████████████████████████████████████████| 29515/29515 [00:00<00:00, 534114.33it/s]\n"
     ]
    },
    {
     "name": "stdout",
     "output_type": "stream",
     "text": [
      "Extracting data/FashionMNIST/raw/train-labels-idx1-ubyte.gz to data/FashionMNIST/raw\n",
      "\n",
      "Downloading http://fashion-mnist.s3-website.eu-central-1.amazonaws.com/t10k-images-idx3-ubyte.gz\n",
      "Downloading http://fashion-mnist.s3-website.eu-central-1.amazonaws.com/t10k-images-idx3-ubyte.gz to data/FashionMNIST/raw/t10k-images-idx3-ubyte.gz\n"
     ]
    },
    {
     "name": "stderr",
     "output_type": "stream",
     "text": [
      "100%|█████████████████████████████████████████████████████████████████████████████████████████████████████████████████| 4422102/4422102 [00:02<00:00, 1670439.23it/s]\n"
     ]
    },
    {
     "name": "stdout",
     "output_type": "stream",
     "text": [
      "Extracting data/FashionMNIST/raw/t10k-images-idx3-ubyte.gz to data/FashionMNIST/raw\n",
      "\n",
      "Downloading http://fashion-mnist.s3-website.eu-central-1.amazonaws.com/t10k-labels-idx1-ubyte.gz\n",
      "Downloading http://fashion-mnist.s3-website.eu-central-1.amazonaws.com/t10k-labels-idx1-ubyte.gz to data/FashionMNIST/raw/t10k-labels-idx1-ubyte.gz\n"
     ]
    },
    {
     "name": "stderr",
     "output_type": "stream",
     "text": [
      "100%|███████████████████████████████████████████████████████████████████████████████████████████████████████████████████████| 5148/5148 [00:00<00:00, 5259994.40it/s]"
     ]
    },
    {
     "name": "stdout",
     "output_type": "stream",
     "text": [
      "Extracting data/FashionMNIST/raw/t10k-labels-idx1-ubyte.gz to data/FashionMNIST/raw\n",
      "\n"
     ]
    },
    {
     "name": "stderr",
     "output_type": "stream",
     "text": [
      "\n"
     ]
    }
   ],
   "source": [
    "# Setup training data\n",
    "train_data = datasets.FashionMNIST(\n",
    "    root=\"data\", # where to download data to?\n",
    "    train=True, # get training data\n",
    "    download=True, # download data if it doesn't exist on disk\n",
    "    transform=ToTensor(), # images come as PIL format, we want to turn into Torch tensors\n",
    "    target_transform=None # you can transform labels as well\n",
    ")\n",
    "\n",
    "# Setup testing data\n",
    "test_data = datasets.FashionMNIST(\n",
    "    root=\"data\",\n",
    "    train=False, # get test data\n",
    "    download=True,\n",
    "    transform=ToTensor()\n",
    ")"
   ]
  },
  {
   "cell_type": "code",
   "execution_count": 36,
   "id": "66b459ce-6dfb-49c3-8e4b-69300bf4266e",
   "metadata": {},
   "outputs": [
    {
     "data": {
      "text/plain": [
       "Dataset FashionMNIST\n",
       "    Number of datapoints: 60000\n",
       "    Root location: data\n",
       "    Split: Train\n",
       "    StandardTransform\n",
       "Transform: ToTensor()"
      ]
     },
     "execution_count": 36,
     "metadata": {},
     "output_type": "execute_result"
    }
   ],
   "source": [
    "train_data"
   ]
  },
  {
   "cell_type": "code",
   "execution_count": 37,
   "id": "a5c8595f-ed2e-48d4-a4ec-3e5e41e2aed7",
   "metadata": {},
   "outputs": [
    {
     "data": {
      "text/plain": [
       "Dataset FashionMNIST\n",
       "    Number of datapoints: 10000\n",
       "    Root location: data\n",
       "    Split: Test\n",
       "    StandardTransform\n",
       "Transform: ToTensor()"
      ]
     },
     "execution_count": 37,
     "metadata": {},
     "output_type": "execute_result"
    }
   ],
   "source": [
    "test_data"
   ]
  },
  {
   "cell_type": "code",
   "execution_count": 38,
   "id": "1f09b814-996a-4531-8fbe-ba6c4b8c83f7",
   "metadata": {},
   "outputs": [],
   "source": [
    "image, lable = train_data[0]"
   ]
  },
  {
   "cell_type": "code",
   "execution_count": 39,
   "id": "d81febe4-d1e7-47ec-b8d7-df35db475016",
   "metadata": {},
   "outputs": [
    {
     "data": {
      "text/plain": [
       "9"
      ]
     },
     "execution_count": 39,
     "metadata": {},
     "output_type": "execute_result"
    }
   ],
   "source": [
    "lable"
   ]
  },
  {
   "cell_type": "code",
   "execution_count": 19,
   "id": "c46df53d-52e5-4718-95c4-7cd6eafb65e5",
   "metadata": {},
   "outputs": [
    {
     "data": {
      "text/plain": [
       "['T-shirt/top',\n",
       " 'Trouser',\n",
       " 'Pullover',\n",
       " 'Dress',\n",
       " 'Coat',\n",
       " 'Sandal',\n",
       " 'Shirt',\n",
       " 'Sneaker',\n",
       " 'Bag',\n",
       " 'Ankle boot']"
      ]
     },
     "execution_count": 19,
     "metadata": {},
     "output_type": "execute_result"
    }
   ],
   "source": [
    "train_data.classes"
   ]
  },
  {
   "cell_type": "code",
   "execution_count": 31,
   "id": "7c88ca44-ef93-4493-99cd-b43756b92f07",
   "metadata": {},
   "outputs": [
    {
     "data": {
      "text/plain": [
       "10"
      ]
     },
     "execution_count": 31,
     "metadata": {},
     "output_type": "execute_result"
    }
   ],
   "source": [
    "len(train_data.classes)"
   ]
  },
  {
   "cell_type": "code",
   "execution_count": 20,
   "id": "482d3756-6b67-4303-b6f3-a8c072e75780",
   "metadata": {},
   "outputs": [
    {
     "data": {
      "text/plain": [
       "'Ankle boot'"
      ]
     },
     "execution_count": 20,
     "metadata": {},
     "output_type": "execute_result"
    }
   ],
   "source": [
    "train_data.classes[9]"
   ]
  },
  {
   "cell_type": "code",
   "execution_count": 22,
   "id": "b6b3525e-1fb0-4f15-8312-96ed31003bbc",
   "metadata": {},
   "outputs": [
    {
     "data": {
      "text/plain": [
       "torch.Size([1, 28, 28])"
      ]
     },
     "execution_count": 22,
     "metadata": {},
     "output_type": "execute_result"
    }
   ],
   "source": [
    "image.shape"
   ]
  },
  {
   "cell_type": "code",
   "execution_count": 28,
   "id": "0b57506b-2d5d-4686-8b3a-0d0883ba5848",
   "metadata": {},
   "outputs": [],
   "source": [
    "image, label = train_data[150]"
   ]
  },
  {
   "cell_type": "code",
   "execution_count": 30,
   "id": "2cebf39e-addd-44d0-a209-56c2102132d1",
   "metadata": {},
   "outputs": [
    {
     "data": {
      "text/plain": [
       "9"
      ]
     },
     "execution_count": 30,
     "metadata": {},
     "output_type": "execute_result"
    }
   ],
   "source": [
    "lable"
   ]
  },
  {
   "cell_type": "code",
   "execution_count": 46,
   "id": "ed3f5b9f-5e40-44f8-91d8-cb5ca21d6591",
   "metadata": {},
   "outputs": [],
   "source": [
    "def plot_image(image: torch.Tensor):\n",
    "    print(f\"Image shape: {image.shape}\")\n",
    "    plt.imshow(image.squeeze()) # image shape is [1, 28, 28] (colour channels, height, width)\n",
    "    plt.title(label)"
   ]
  },
  {
   "cell_type": "code",
   "execution_count": 29,
   "id": "41e6a21a-5e19-437a-9e35-faf12da6316a",
   "metadata": {},
   "outputs": [
    {
     "name": "stdout",
     "output_type": "stream",
     "text": [
      "Image shape: torch.Size([1, 28, 28])\n"
     ]
    },
    {
     "data": {
      "text/plain": [
       "Text(0.5, 1.0, '9')"
      ]
     },
     "execution_count": 29,
     "metadata": {},
     "output_type": "execute_result"
    },
    {
     "data": {
      "image/png": "[encoded data removed]",
      "text/plain": [
       "<Figure size 640x480 with 1 Axes>"
      ]
     },
     "metadata": {},
     "output_type": "display_data"
    }
   ],
   "source": [
    "print(f\"Image shape: {image.shape}\")\n",
    "plt.imshow(image.squeeze()) # image shape is [1, 28, 28] (colour channels, height, width)\n",
    "plt.title(label)"
   ]
  },
  {
   "cell_type": "code",
   "execution_count": 33,
   "id": "d1fd591b-8717-4c83-88c5-b009969d12b3",
   "metadata": {},
   "outputs": [
    {
     "data": {
      "text/plain": [
       "['T-shirt/top',\n",
       " 'Trouser',\n",
       " 'Pullover',\n",
       " 'Dress',\n",
       " 'Coat',\n",
       " 'Sandal',\n",
       " 'Shirt',\n",
       " 'Sneaker',\n",
       " 'Bag',\n",
       " 'Ankle boot']"
      ]
     },
     "execution_count": 33,
     "metadata": {},
     "output_type": "execute_result"
    }
   ],
   "source": [
    "# See classes\n",
    "class_names = train_data.classes\n",
    "class_names"
   ]
  },
  {
   "cell_type": "code",
   "execution_count": 34,
   "id": "f74ef9a6-1e4a-409e-9396-3af2858e0aed",
   "metadata": {},
   "outputs": [
    {
     "data": {
      "image/png": "[encoded data removed]",
      "text/plain": [
       "<Figure size 900x900 with 16 Axes>"
      ]
     },
     "metadata": {},
     "output_type": "display_data"
    }
   ],
   "source": [
    "# Plot more images\n",
    "torch.manual_seed(42)\n",
    "fig = plt.figure(figsize=(9, 9))\n",
    "rows, cols = 4, 4\n",
    "for i in range(1, rows * cols + 1):\n",
    "    random_idx = torch.randint(0, len(train_data), size=[1]).item()\n",
    "    img, label = train_data[random_idx]\n",
    "    fig.add_subplot(rows, cols, i)\n",
    "    plt.imshow(img.squeeze(), cmap=\"gray\")\n",
    "    plt.title(class_names[label])\n",
    "    plt.axis(False);"
   ]
  },
  {
   "cell_type": "markdown",
   "id": "b047a9aa-b185-40a3-94fe-6e663f2f05cf",
   "metadata": {},
   "source": [
    "## DataLoader"
   ]
  },
  {
   "cell_type": "code",
   "execution_count": 40,
   "id": "64c66541-e757-4379-8453-d8958c8c41e9",
   "metadata": {},
   "outputs": [],
   "source": [
    "train_loader = DataLoader(\n",
    "    dataset= train_data,\n",
    "    shuffle= True,\n",
    "    batch_size=32\n",
    ")"
   ]
  },
  {
   "cell_type": "code",
   "execution_count": 41,
   "id": "5109e462-fe07-4ede-9980-d6232066c691",
   "metadata": {},
   "outputs": [],
   "source": [
    "test_loader = DataLoader(\n",
    "    dataset= test_data,\n",
    "    shuffle= True,\n",
    "    batch_size=32\n",
    ")"
   ]
  },
  {
   "cell_type": "code",
   "execution_count": 42,
   "id": "8fdcf595-5ed3-4e3d-8ef1-693c87d401da",
   "metadata": {},
   "outputs": [],
   "source": [
    "images, lables = next(iter(train_loader))"
   ]
  },
  {
   "cell_type": "code",
   "execution_count": 48,
   "id": "814f9546-e50a-4cfa-9748-07990b8730f5",
   "metadata": {},
   "outputs": [
    {
     "data": {
      "text/plain": [
       "torch.Size([32, 1, 28, 28])"
      ]
     },
     "execution_count": 48,
     "metadata": {},
     "output_type": "execute_result"
    }
   ],
   "source": [
    "images.shape"
   ]
  },
  {
   "cell_type": "code",
   "execution_count": 53,
   "id": "44481563-d859-439a-bc91-9d0ec56b10b7",
   "metadata": {},
   "outputs": [
    {
     "name": "stdout",
     "output_type": "stream",
     "text": [
      "Image shape: torch.Size([1, 28, 28])\n"
     ]
    },
    {
     "data": {
      "image/png": "[encoded data removed]",
      "text/plain": [
       "<Figure size 640x480 with 1 Axes>"
      ]
     },
     "metadata": {},
     "output_type": "display_data"
    }
   ],
   "source": [
    "plot_image(images[31])"
   ]
  },
  {
   "cell_type": "code",
   "execution_count": 55,
   "id": "490af5b7-fc8c-42ab-965c-03a341b8e57a",
   "metadata": {},
   "outputs": [
    {
     "data": {
      "text/plain": [
       "tensor([5, 1, 8, 1, 5, 2, 6, 7, 3, 5, 9, 5, 7, 5, 0, 4, 4, 4, 4, 6, 1, 8, 0, 1,\n",
       "        9, 7, 8, 8, 3, 3, 7, 2])"
      ]
     },
     "execution_count": 55,
     "metadata": {},
     "output_type": "execute_result"
    }
   ],
   "source": [
    "lables"
   ]
  },
  {
   "cell_type": "code",
   "execution_count": 56,
   "id": "d55acf22-162c-4f2a-bab1-211d49cb1c21",
   "metadata": {},
   "outputs": [
    {
     "data": {
      "text/plain": [
       "torch.Size([32])"
      ]
     },
     "execution_count": 56,
     "metadata": {},
     "output_type": "execute_result"
    }
   ],
   "source": [
    "lables.shape"
   ]
  },
  {
   "cell_type": "code",
   "execution_count": 59,
   "id": "ae006c01-329d-4deb-bac2-b6f112b6f786",
   "metadata": {},
   "outputs": [
    {
     "data": {
      "text/plain": [
       "torch.Size([1, 28, 28])"
      ]
     },
     "execution_count": 59,
     "metadata": {},
     "output_type": "execute_result"
    }
   ],
   "source": [
    "images[0].shape"
   ]
  },
  {
   "cell_type": "code",
   "execution_count": 60,
   "id": "32269b4f-332f-4458-801d-7ef3507497d7",
   "metadata": {},
   "outputs": [
    {
     "data": {
      "text/plain": [
       "784"
      ]
     },
     "execution_count": 60,
     "metadata": {},
     "output_type": "execute_result"
    }
   ],
   "source": [
    "28 * 28"
   ]
  },
  {
   "cell_type": "code",
   "execution_count": 62,
   "id": "d1218a90-1387-405b-9764-1789e7db4b92",
   "metadata": {},
   "outputs": [
    {
     "data": {
      "text/plain": [
       "torch.Size([784])"
      ]
     },
     "execution_count": 62,
     "metadata": {},
     "output_type": "execute_result"
    }
   ],
   "source": [
    "images[0].flatten().shape"
   ]
  },
  {
   "cell_type": "markdown",
   "id": "d1f0c655-265e-4694-ba63-cc003a9be7c7",
   "metadata": {},
   "source": [
    "## Model Building"
   ]
  },
  {
   "cell_type": "code",
   "execution_count": 85,
   "id": "4b5b09c8-fe0b-4bb6-972c-963ad5d19120",
   "metadata": {},
   "outputs": [],
   "source": [
    "class FashionMNSITVisionModelV1(nn.Module):\n",
    "\n",
    "    def __init__(self, ):\n",
    "        super(FashionMNSITVisionModelV1, self).__init__()\n",
    "\n",
    "        self.flatten_layer = nn.Flatten()\n",
    "\n",
    "        self.fc = nn.Sequential(\n",
    "            nn.Linear(in_features= 784, out_features= 16),\n",
    "            nn.Linear(in_features= 16, out_features= 16),\n",
    "            nn.Linear(in_features= 16, out_features= 10),\n",
    "        )\n",
    "\n",
    "        self.softmax = nn.Softmax(dim=-1)\n",
    "\n",
    "    def forward(self, input_imgs: torch.Tensor):\n",
    "\n",
    "        out = self.flatten_layer(input_imgs)\n",
    "\n",
    "        out = self.fc(out)\n",
    "\n",
    "        out = self.softmax(out)\n",
    "\n",
    "        return out        "
   ]
  },
  {
   "cell_type": "code",
   "execution_count": 116,
   "id": "b66b4ee6-cfe0-4b65-9213-07c12c694987",
   "metadata": {},
   "outputs": [],
   "source": [
    "modelv1 = FashionMNSITVisionModelV1()"
   ]
  },
  {
   "cell_type": "code",
   "execution_count": 117,
   "id": "e72864e6-2bef-4fe3-8c9d-7eea11bd40d5",
   "metadata": {},
   "outputs": [
    {
     "data": {
      "text/plain": [
       "FashionMNSITVisionModelV1(\n",
       "  (flatten_layer): Flatten(start_dim=1, end_dim=-1)\n",
       "  (fc): Sequential(\n",
       "    (0): Linear(in_features=784, out_features=16, bias=True)\n",
       "    (1): Linear(in_features=16, out_features=16, bias=True)\n",
       "    (2): Linear(in_features=16, out_features=10, bias=True)\n",
       "  )\n",
       "  (softmax): Softmax(dim=-1)\n",
       ")"
      ]
     },
     "execution_count": 117,
     "metadata": {},
     "output_type": "execute_result"
    }
   ],
   "source": [
    "modelv1"
   ]
  },
  {
   "cell_type": "code",
   "execution_count": 118,
   "id": "8962d57b-71cb-4f92-9d8f-5417163aaa9a",
   "metadata": {},
   "outputs": [],
   "source": [
    "img1 = images[0]"
   ]
  },
  {
   "cell_type": "code",
   "execution_count": 119,
   "id": "5c293d8e-ee63-48c3-9895-5411d18235c8",
   "metadata": {},
   "outputs": [
    {
     "name": "stdout",
     "output_type": "stream",
     "text": [
      "Image shape: torch.Size([1, 28, 28])\n"
     ]
    },
    {
     "data": {
      "image/png": "[encoded data removed]",
      "text/plain": [
       "<Figure size 640x480 with 1 Axes>"
      ]
     },
     "metadata": {},
     "output_type": "display_data"
    }
   ],
   "source": [
    "plot_image(img1)"
   ]
  },
  {
   "cell_type": "code",
   "execution_count": 120,
   "id": "1b896ec3-d752-448d-9ef8-5e0fed7cecf4",
   "metadata": {},
   "outputs": [
    {
     "data": {
      "text/plain": [
       "tensor([[0.0963, 0.0766, 0.1253, 0.1039, 0.1120, 0.1075, 0.0794, 0.0897, 0.1113,\n",
       "         0.0980]], grad_fn=<SoftmaxBackward0>)"
      ]
     },
     "execution_count": 120,
     "metadata": {},
     "output_type": "execute_result"
    }
   ],
   "source": [
    "out = modelv1(img1)\n",
    "out"
   ]
  },
  {
   "cell_type": "code",
   "execution_count": 121,
   "id": "5ec540fd-daf9-4386-b8ff-df0db0705e89",
   "metadata": {},
   "outputs": [
    {
     "data": {
      "text/plain": [
       "tensor(1., grad_fn=<SumBackward0>)"
      ]
     },
     "execution_count": 121,
     "metadata": {},
     "output_type": "execute_result"
    }
   ],
   "source": [
    "out.sum()"
   ]
  },
  {
   "cell_type": "code",
   "execution_count": 122,
   "id": "f0c7a58c-4b34-44b9-b24a-3bfcaaca9e8c",
   "metadata": {},
   "outputs": [
    {
     "data": {
      "text/plain": [
       "tensor(2)"
      ]
     },
     "execution_count": 122,
     "metadata": {},
     "output_type": "execute_result"
    }
   ],
   "source": [
    "out.argmax()"
   ]
  },
  {
   "cell_type": "code",
   "execution_count": 123,
   "id": "7a7f3d76-3045-48ad-b3a2-64bf7d8d0b19",
   "metadata": {},
   "outputs": [
    {
     "data": {
      "text/plain": [
       "tensor(5)"
      ]
     },
     "execution_count": 123,
     "metadata": {},
     "output_type": "execute_result"
    }
   ],
   "source": [
    "lables[0]"
   ]
  },
  {
   "cell_type": "markdown",
   "id": "797e3e06-8b87-4760-8804-ff885fe11299",
   "metadata": {},
   "source": [
    "## Train Model"
   ]
  },
  {
   "cell_type": "code",
   "execution_count": 124,
   "id": "5888bfab-1836-48df-86f4-eaf825831202",
   "metadata": {},
   "outputs": [],
   "source": [
    "loss_fn = nn.CrossEntropyLoss()"
   ]
  },
  {
   "cell_type": "code",
   "execution_count": 129,
   "id": "f8ff362e-5587-4a34-a3bf-6002f937d1d0",
   "metadata": {},
   "outputs": [],
   "source": [
    "opt = torch.optim.Adam(modelv1.parameters(), lr=0.001)"
   ]
  },
  {
   "cell_type": "code",
   "execution_count": 126,
   "id": "725169c2-a3f6-40df-8793-ed4f23bee36f",
   "metadata": {},
   "outputs": [],
   "source": [
    "def train_model(\n",
    "    model, \n",
    "    train_loader,\n",
    "    loss_fn, \n",
    "    optimizer,\n",
    "    epochs: int = 3\n",
    "):\n",
    "\n",
    "    for epoch in range(epochs):\n",
    "\n",
    "        total_loss = 0\n",
    "        \n",
    "        for images, lables in train_loader:\n",
    "\n",
    "            optimizer.zero_grad()\n",
    "\n",
    "            pred = model(images)\n",
    "\n",
    "            loss = loss_fn(pred, lables)\n",
    "\n",
    "            total_loss += loss.item()\n",
    "\n",
    "            loss.backward()\n",
    "\n",
    "            optimizer.step()\n",
    "\n",
    "        total_loss /= len(train_loader)\n",
    "        \n",
    "        print(f\"Train Model: {epoch}/{epochs}| Loss: {total_loss}\")"
   ]
  },
  {
   "cell_type": "code",
   "execution_count": 131,
   "id": "cdd36166-a9f9-473d-b32d-a45d32ba531e",
   "metadata": {},
   "outputs": [
    {
     "name": "stdout",
     "output_type": "stream",
     "text": [
      "Train Model: 0/5| Loss: 1.7596215504964192\n",
      "Train Model: 1/5| Loss: 1.7541772163391114\n",
      "Train Model: 2/5| Loss: 1.755731177775065\n",
      "Train Model: 3/5| Loss: 1.755658364868164\n",
      "Train Model: 4/5| Loss: 1.7548597989400228\n"
     ]
    }
   ],
   "source": [
    "train_model(\n",
    "    model= modelv1, \n",
    "    train_loader= train_loader,\n",
    "    optimizer= opt, \n",
    "    loss_fn= loss_fn,\n",
    "    epochs= 5\n",
    ")"
   ]
  },
  {
   "cell_type": "code",
   "execution_count": 132,
   "id": "e4f57b60-5247-45f4-875a-a6c1e29b1e27",
   "metadata": {},
   "outputs": [
    {
     "data": {
      "text/plain": [
       "False"
      ]
     },
     "execution_count": 132,
     "metadata": {},
     "output_type": "execute_result"
    }
   ],
   "source": [
    "torch.cuda.is_available()"
   ]
  },
  {
   "cell_type": "code",
   "execution_count": null,
   "id": "311c008e-b716-46de-bfc4-aab01157c08a",
   "metadata": {},
   "outputs": [],
   "source": []
  }
 ],
 "metadata": {
  "kernelspec": {
   "display_name": "Python (ml-env)",
   "language": "python",
   "name": "ml-env"
  },
  "language_info": {
   "codemirror_mode": {
    "name": "ipython",
    "version": 3
   },
   "file_extension": ".py",
   "mimetype": "text/x-python",
   "name": "python",
   "nbconvert_exporter": "python",
   "pygments_lexer": "ipython3",
   "version": "3.11.6"
  }
 },
 "nbformat": 4,
 "nbformat_minor": 5
}
