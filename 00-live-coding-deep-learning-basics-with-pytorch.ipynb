{
 "cells": [
  {
   "cell_type": "markdown",
   "id": "0ec318fb-b569-4058-a183-45001acf5eab",
   "metadata": {},
   "source": [
    "# Live Coding 1 🎥\n",
    "\n",
    "## Deep Learning Basics with PyTorch"
   ]
  },
  {
   "cell_type": "markdown",
   "id": "0cf2ef59-fd21-418e-b35e-dca11dc5026e",
   "metadata": {},
   "source": [
    "What we're going to cover:\n",
    "\n",
    "- [torch.Tensor](https://pytorch.org/docs/stable/tensors.html): High-dimensional arrays, similar to NumPy arrays.\n",
    " \n",
    "- [nn Modules](https://pytorch.org/docs/stable/nn.html):\n",
    "  - [nn.Module](https://pytorch.org/docs/stable/generated/torch.nn.Module.html): Base class for all neural network modules.\n",
    "  - [nn.Linear](https://pytorch.org/docs/stable/generated/torch.nn.Linear.html): Applies a linear transformation to the incoming data.\n",
    "  - [nn.Conv2d](https://pytorch.org/docs/stable/generated/torch.nn.Conv2d.html): Applies a 2D convolution over an input signal.\n",
    "\n",
    "- [Activation Functions](https://pytorch.org/docs/stable/nn.html#non-linear-activations):\n",
    "  - [nn.ReLU](https://pytorch.org/docs/stable/generated/torch.nn.ReLU.html): Rectified Linear Unit.\n",
    "  - [nn.Sigmoid](https://pytorch.org/docs/stable/generated/torch.nn.Sigmoid.html): Sigmoid function.\n",
    "  - [nn.Tanh](https://pytorch.org/docs/stable/generated/torch.nn.Tanh.html): Hyperbolic tangent function.\n",
    "\n",
    "- [Optim](https://pytorch.org/docs/stable/optim.html): Optimization algorithms.\n",
    "  - [torch.optim.SGD](https://pytorch.org/docs/stable/optim.html#torch.optim.SGD): Stochastic Gradient Descent.\n",
    "  - [torch.optim.Adam](https://pytorch.org/docs/stable/optim.html#torch.optim.Adam): Adam algorithm.\n",
    "\n",
    "- [Loss Functions](https://pytorch.org/docs/stable/nn.html#loss-functions):\n",
    "  - [nn.CrossEntropyLoss](https://pytorch.org/docs/stable/generated/torch.nn.CrossEntropyLoss.html): Combines `nn.LogSoftmax` and `nn.NLLLoss`.\n",
    "\n",
    "  - [nn.MSELoss](https://pytorch.org/docs/stable/generated/torch.nn.MSELoss.html): Mean squared error loss.\n",
    "  - [nn.BCELoss](https://pytorch.org/docs/stable/generated/torch.nn.BCELoss.html): Binary cross entropy loss.\n",
    "\n",
    "- [Data Loading and Processing](https://pytorch.org/docs/stable/data.html):\n",
    "  - [torch.utils.data.DataLoader](https://pytorch.org/docs/stable/data.html#torch.utils.data.DataLoader): Data loader.\n",
    "  - [torchvision.datasets](https://pytorch.org/vision/stable/datasets.html): Standard datasets.\n",
    "  - [torchvision.transforms](https://pytorch.org/vision/stable/transforms.html): Common image transformations.\n",
    "\n",
    "- [Training Loop](https://pytorch.org/tutorials/beginner/basics/optimization_tutorial.html): Putting it all together to train a model.\n",
    "- [Saving and Loading Models](https://pytorch.org/tutorials/beginner/saving_loading_models.html): Persisting and restoring models."
   ]
  },
  {
   "cell_type": "code",
   "execution_count": 246,
   "id": "aafc9c3c-7452-48b6-b3d9-0f7e0a3ffef7",
   "metadata": {},
   "outputs": [],
   "source": [
    "import torch\n",
    "\n",
    "import numpy as np"
   ]
  },
  {
   "cell_type": "markdown",
   "id": "3c21919d-c0a6-4c98-8c27-0fb64501c92c",
   "metadata": {},
   "source": [
    "## Tensor"
   ]
  },
  {
   "cell_type": "code",
   "execution_count": 66,
   "id": "b756418a-c71a-44c4-ad12-f71caed24c5c",
   "metadata": {},
   "outputs": [
    {
     "data": {
      "text/plain": [
       "tensor(1)"
      ]
     },
     "execution_count": 66,
     "metadata": {},
     "output_type": "execute_result"
    }
   ],
   "source": [
    "s = torch.tensor(1)\n",
    "s"
   ]
  },
  {
   "cell_type": "code",
   "execution_count": 67,
   "id": "49be3063-97d5-49c2-b639-b7cc0805e66b",
   "metadata": {},
   "outputs": [
    {
     "data": {
      "text/plain": [
       "0"
      ]
     },
     "execution_count": 67,
     "metadata": {},
     "output_type": "execute_result"
    }
   ],
   "source": [
    "s.ndim"
   ]
  },
  {
   "cell_type": "code",
   "execution_count": 68,
   "id": "6e2d167d-73a9-4ebe-aca7-17c520f74b55",
   "metadata": {},
   "outputs": [
    {
     "data": {
      "text/plain": [
       "torch.Size([])"
      ]
     },
     "execution_count": 68,
     "metadata": {},
     "output_type": "execute_result"
    }
   ],
   "source": [
    "s.shape"
   ]
  },
  {
   "cell_type": "code",
   "execution_count": 69,
   "id": "5039e676-7e59-4993-b1d8-3940183af10f",
   "metadata": {},
   "outputs": [
    {
     "data": {
      "text/plain": [
       "tensor([1., 2., 4.])"
      ]
     },
     "execution_count": 69,
     "metadata": {},
     "output_type": "execute_result"
    }
   ],
   "source": [
    "vec = torch.Tensor([1, 2, 4])\n",
    "vec"
   ]
  },
  {
   "cell_type": "code",
   "execution_count": 70,
   "id": "9ba1a731-fc1c-4002-ab27-2d2e0b454136",
   "metadata": {},
   "outputs": [
    {
     "data": {
      "text/plain": [
       "1"
      ]
     },
     "execution_count": 70,
     "metadata": {},
     "output_type": "execute_result"
    }
   ],
   "source": [
    "vec.ndim"
   ]
  },
  {
   "cell_type": "code",
   "execution_count": 71,
   "id": "3ec3dc0f-c1a3-4e02-855c-02ca69d0cd47",
   "metadata": {},
   "outputs": [
    {
     "data": {
      "text/plain": [
       "torch.Size([3])"
      ]
     },
     "execution_count": 71,
     "metadata": {},
     "output_type": "execute_result"
    }
   ],
   "source": [
    "vec.shape"
   ]
  },
  {
   "cell_type": "code",
   "execution_count": 72,
   "id": "dc30b644-abe8-47c0-a2e6-d0f68b24fe7d",
   "metadata": {},
   "outputs": [
    {
     "data": {
      "text/plain": [
       "tensor([[1., 2., 3.],\n",
       "        [3., 4., 4.]])"
      ]
     },
     "execution_count": 72,
     "metadata": {},
     "output_type": "execute_result"
    }
   ],
   "source": [
    "matrix = torch.Tensor([[1, 2, 3],\n",
    "                       [3, 4, 4]])\n",
    "matrix"
   ]
  },
  {
   "cell_type": "code",
   "execution_count": 73,
   "id": "0b180a5b-7a86-4e87-b6b9-97043a3abde0",
   "metadata": {},
   "outputs": [
    {
     "data": {
      "text/plain": [
       "torch.Size([2, 3])"
      ]
     },
     "execution_count": 73,
     "metadata": {},
     "output_type": "execute_result"
    }
   ],
   "source": [
    "matrix.shape"
   ]
  },
  {
   "cell_type": "code",
   "execution_count": 74,
   "id": "4636a983-f080-4490-83fe-4c043f8ecee0",
   "metadata": {},
   "outputs": [
    {
     "data": {
      "text/plain": [
       "2"
      ]
     },
     "execution_count": 74,
     "metadata": {},
     "output_type": "execute_result"
    }
   ],
   "source": [
    "matrix.ndim"
   ]
  },
  {
   "cell_type": "code",
   "execution_count": 75,
   "id": "b22e0989-aac9-498a-89f7-4e1be8f31cc1",
   "metadata": {},
   "outputs": [
    {
     "data": {
      "text/plain": [
       "tensor([[[ 1.,  2.],\n",
       "         [ 3.,  4.],\n",
       "         [ 5.,  6.]],\n",
       "\n",
       "        [[ 7.,  8.],\n",
       "         [ 9., 10.],\n",
       "         [11., 12.]]])"
      ]
     },
     "execution_count": 75,
     "metadata": {},
     "output_type": "execute_result"
    }
   ],
   "source": [
    "tensor = torch.Tensor([1, 2, 3, 4, 5, 6, 7, 8, 9, 10, 11, 12]).reshape(2, 3, 2)\n",
    "tensor"
   ]
  },
  {
   "cell_type": "code",
   "execution_count": 76,
   "id": "a0989516-87f2-4279-b32e-cc792400e249",
   "metadata": {},
   "outputs": [
    {
     "data": {
      "text/plain": [
       "3"
      ]
     },
     "execution_count": 76,
     "metadata": {},
     "output_type": "execute_result"
    }
   ],
   "source": [
    "tensor.ndim"
   ]
  },
  {
   "cell_type": "code",
   "execution_count": 77,
   "id": "7219d637-3384-45f9-82cc-b6a25b246e95",
   "metadata": {},
   "outputs": [
    {
     "data": {
      "text/plain": [
       "torch.Size([2, 3, 2])"
      ]
     },
     "execution_count": 77,
     "metadata": {},
     "output_type": "execute_result"
    }
   ],
   "source": [
    "tensor.shape"
   ]
  },
  {
   "cell_type": "code",
   "execution_count": 78,
   "id": "a4871abb-84cf-40e6-871b-150899c4059b",
   "metadata": {},
   "outputs": [
    {
     "data": {
      "text/plain": [
       "tensor(10.)"
      ]
     },
     "execution_count": 78,
     "metadata": {},
     "output_type": "execute_result"
    }
   ],
   "source": [
    "tensor[1][1][1]"
   ]
  },
  {
   "cell_type": "markdown",
   "id": "fbd632dc-d5a4-4ee6-8f64-079fee241d7a",
   "metadata": {},
   "source": [
    "## Tensor Operations "
   ]
  },
  {
   "cell_type": "code",
   "execution_count": 79,
   "id": "a1978d2d-ed24-4f59-9bd4-d42e64127c37",
   "metadata": {},
   "outputs": [],
   "source": [
    "a = torch.Tensor([1, 2, 3])\n",
    "b = torch.Tensor([3, -2, 5])"
   ]
  },
  {
   "cell_type": "code",
   "execution_count": 80,
   "id": "58583747-c491-44e1-98c2-875e0b6425b6",
   "metadata": {},
   "outputs": [
    {
     "data": {
      "text/plain": [
       "tensor([4., 0., 8.])"
      ]
     },
     "execution_count": 80,
     "metadata": {},
     "output_type": "execute_result"
    }
   ],
   "source": [
    "a + b "
   ]
  },
  {
   "cell_type": "code",
   "execution_count": 81,
   "id": "6e81e144-3aa2-4bc0-ad75-d904e8d70bb2",
   "metadata": {},
   "outputs": [
    {
     "data": {
      "text/plain": [
       "tensor([-2.,  4., -2.])"
      ]
     },
     "execution_count": 81,
     "metadata": {},
     "output_type": "execute_result"
    }
   ],
   "source": [
    "a - b "
   ]
  },
  {
   "cell_type": "code",
   "execution_count": 82,
   "id": "276fb82f-d978-4b2e-a93e-c13cc05ff78b",
   "metadata": {},
   "outputs": [
    {
     "data": {
      "text/plain": [
       "tensor([ 3., -4., 15.])"
      ]
     },
     "execution_count": 82,
     "metadata": {},
     "output_type": "execute_result"
    }
   ],
   "source": [
    "a * b # element wise"
   ]
  },
  {
   "cell_type": "code",
   "execution_count": 83,
   "id": "2293f7da-3590-4b41-8ae4-360d95667f26",
   "metadata": {},
   "outputs": [
    {
     "data": {
      "text/plain": [
       "tensor([ 0.3333, -1.0000,  0.6000])"
      ]
     },
     "execution_count": 83,
     "metadata": {},
     "output_type": "execute_result"
    }
   ],
   "source": [
    "a / b"
   ]
  },
  {
   "cell_type": "code",
   "execution_count": 84,
   "id": "61b07f2d-6963-48d0-ac8c-01b826ed05bb",
   "metadata": {},
   "outputs": [
    {
     "data": {
      "text/plain": [
       "tensor(14.)"
      ]
     },
     "execution_count": 84,
     "metadata": {},
     "output_type": "execute_result"
    }
   ],
   "source": [
    "torch.dot(a, b)"
   ]
  },
  {
   "cell_type": "code",
   "execution_count": 85,
   "id": "b064c32b-251e-4729-abde-0155acbfeb7a",
   "metadata": {},
   "outputs": [],
   "source": [
    "m1 = torch.Tensor([[1, 2, 3],\n",
    "                   [3, 4, 4]])\n",
    "\n",
    "m2 = torch.Tensor([[1, 2, 3],\n",
    "                  [3, 4, 4]])"
   ]
  },
  {
   "cell_type": "code",
   "execution_count": 86,
   "id": "226bde28-81ba-4c0d-ba5a-9a8a0b45c039",
   "metadata": {},
   "outputs": [
    {
     "data": {
      "text/plain": [
       "tensor([[1., 2., 3.],\n",
       "        [3., 4., 4.]])"
      ]
     },
     "execution_count": 86,
     "metadata": {},
     "output_type": "execute_result"
    }
   ],
   "source": [
    "m1"
   ]
  },
  {
   "cell_type": "code",
   "execution_count": 87,
   "id": "ae44ea05-3c26-4e4b-a420-fed1a8537450",
   "metadata": {},
   "outputs": [
    {
     "data": {
      "text/plain": [
       "tensor([[1., 3.],\n",
       "        [2., 4.],\n",
       "        [3., 4.]])"
      ]
     },
     "execution_count": 87,
     "metadata": {},
     "output_type": "execute_result"
    }
   ],
   "source": [
    "m1.t()"
   ]
  },
  {
   "cell_type": "code",
   "execution_count": 88,
   "id": "58e59c5e-980f-4110-b2b3-c7a36e04f11f",
   "metadata": {},
   "outputs": [
    {
     "data": {
      "text/plain": [
       "torch.Size([2, 3])"
      ]
     },
     "execution_count": 88,
     "metadata": {},
     "output_type": "execute_result"
    }
   ],
   "source": [
    "m1.shape"
   ]
  },
  {
   "cell_type": "code",
   "execution_count": 89,
   "id": "ce3db3fd-4bc2-42a8-9968-0c1eb7fb2fb1",
   "metadata": {},
   "outputs": [
    {
     "data": {
      "text/plain": [
       "torch.Size([3, 2])"
      ]
     },
     "execution_count": 89,
     "metadata": {},
     "output_type": "execute_result"
    }
   ],
   "source": [
    "m1.t().shape"
   ]
  },
  {
   "cell_type": "code",
   "execution_count": 90,
   "id": "0614386c-afa3-4a5f-b498-1fd0973d3b31",
   "metadata": {},
   "outputs": [
    {
     "data": {
      "text/plain": [
       "tensor([[14., 23.],\n",
       "        [23., 41.]])"
      ]
     },
     "execution_count": 90,
     "metadata": {},
     "output_type": "execute_result"
    }
   ],
   "source": [
    "torch.mm(m1, m2.t())"
   ]
  },
  {
   "cell_type": "code",
   "execution_count": 91,
   "id": "570c320b-bed6-42c3-94be-c30a187f6e2a",
   "metadata": {},
   "outputs": [
    {
     "data": {
      "text/plain": [
       "tensor([[14., 23.],\n",
       "        [23., 41.]])"
      ]
     },
     "execution_count": 91,
     "metadata": {},
     "output_type": "execute_result"
    }
   ],
   "source": [
    "m1 @ m2.t()"
   ]
  },
  {
   "cell_type": "code",
   "execution_count": 92,
   "id": "28c62944-04dc-40ff-9b17-8ed0ea858aac",
   "metadata": {},
   "outputs": [
    {
     "data": {
      "text/plain": [
       "tensor([[[ 1.,  2.],\n",
       "         [ 3.,  4.],\n",
       "         [ 5.,  6.]],\n",
       "\n",
       "        [[ 7.,  8.],\n",
       "         [ 9., 10.],\n",
       "         [11., 12.]]])"
      ]
     },
     "execution_count": 92,
     "metadata": {},
     "output_type": "execute_result"
    }
   ],
   "source": [
    "torch.Tensor([1, 2, 3, 4, 5, 6, 7, 8, 9, 10, 11, 12]).reshape(2, 3, 2)\n",
    "tensor"
   ]
  },
  {
   "cell_type": "code",
   "execution_count": 93,
   "id": "3470184e-0bb6-4ccf-942e-b02467abd3e7",
   "metadata": {},
   "outputs": [
    {
     "data": {
      "text/plain": [
       "torch.Size([2, 3, 2])"
      ]
     },
     "execution_count": 93,
     "metadata": {},
     "output_type": "execute_result"
    }
   ],
   "source": [
    "tensor.shape"
   ]
  },
  {
   "cell_type": "code",
   "execution_count": 94,
   "id": "5953aad9-d482-4d59-b6eb-ada605a10100",
   "metadata": {},
   "outputs": [
    {
     "data": {
      "text/plain": [
       "torch.Size([2, 3])"
      ]
     },
     "execution_count": 94,
     "metadata": {},
     "output_type": "execute_result"
    }
   ],
   "source": [
    "m1.shape"
   ]
  },
  {
   "cell_type": "code",
   "execution_count": 95,
   "id": "be879a29-0996-430c-8395-68134547ae89",
   "metadata": {},
   "outputs": [
    {
     "data": {
      "text/plain": [
       "tensor([[[ 7., 10., 11.],\n",
       "         [15., 22., 25.],\n",
       "         [23., 34., 39.]],\n",
       "\n",
       "        [[31., 46., 53.],\n",
       "         [39., 58., 67.],\n",
       "         [47., 70., 81.]]])"
      ]
     },
     "execution_count": 95,
     "metadata": {},
     "output_type": "execute_result"
    }
   ],
   "source": [
    "res = tensor @ m1\n",
    "res"
   ]
  },
  {
   "cell_type": "code",
   "execution_count": 96,
   "id": "41b90640-09d3-4d54-8aa7-1cca6b5b0fbe",
   "metadata": {},
   "outputs": [
    {
     "data": {
      "text/plain": [
       "torch.Size([2, 3, 3])"
      ]
     },
     "execution_count": 96,
     "metadata": {},
     "output_type": "execute_result"
    }
   ],
   "source": [
    "res.shape"
   ]
  },
  {
   "cell_type": "markdown",
   "id": "31e9970b-0b1a-4fc1-94f1-d48cedcb6464",
   "metadata": {},
   "source": [
    "## Other Operations"
   ]
  },
  {
   "cell_type": "code",
   "execution_count": 99,
   "id": "e29065be-5470-451c-aaff-1696cb42ce4b",
   "metadata": {},
   "outputs": [
    {
     "data": {
      "text/plain": [
       "tensor([ 1.,  2.,  3.,  4.,  5.,  6.,  7.,  8.,  9., 10., 11., 12.])"
      ]
     },
     "execution_count": 99,
     "metadata": {},
     "output_type": "execute_result"
    }
   ],
   "source": [
    "tensor = torch.Tensor([1, 2, 3, 4, 5, 6, 7, 8, 9, 10, 11, 12])\n",
    "tensor"
   ]
  },
  {
   "cell_type": "code",
   "execution_count": 100,
   "id": "ec33ff24-a729-4484-8110-f0f7b402dff1",
   "metadata": {},
   "outputs": [
    {
     "data": {
      "text/plain": [
       "torch.Size([12])"
      ]
     },
     "execution_count": 100,
     "metadata": {},
     "output_type": "execute_result"
    }
   ],
   "source": [
    "tensor.shape"
   ]
  },
  {
   "cell_type": "code",
   "execution_count": 102,
   "id": "a2ebc804-697b-47f3-a1f9-9d95f1ac53d8",
   "metadata": {},
   "outputs": [
    {
     "data": {
      "text/plain": [
       "tensor([[ 1.,  2.,  3.,  4.],\n",
       "        [ 5.,  6.,  7.,  8.],\n",
       "        [ 9., 10., 11., 12.]])"
      ]
     },
     "execution_count": 102,
     "metadata": {},
     "output_type": "execute_result"
    }
   ],
   "source": [
    "tensor.reshape(3, 4) # 3 x 4 = 12 "
   ]
  },
  {
   "cell_type": "code",
   "execution_count": 104,
   "id": "f18e71b5-faea-4a3e-b0bd-d50fbd9f1240",
   "metadata": {},
   "outputs": [
    {
     "data": {
      "text/plain": [
       "tensor([[[ 1.,  2.],\n",
       "         [ 3.,  4.]],\n",
       "\n",
       "        [[ 5.,  6.],\n",
       "         [ 7.,  8.]],\n",
       "\n",
       "        [[ 9., 10.],\n",
       "         [11., 12.]]])"
      ]
     },
     "execution_count": 104,
     "metadata": {},
     "output_type": "execute_result"
    }
   ],
   "source": [
    "tensor.reshape(3, 2, 2)"
   ]
  },
  {
   "cell_type": "code",
   "execution_count": 105,
   "id": "4a6d61e1-6e6b-4e8c-81ec-cfc41601269b",
   "metadata": {},
   "outputs": [
    {
     "data": {
      "text/plain": [
       "tensor([[1., 2., 3.],\n",
       "        [3., 4., 4.]])"
      ]
     },
     "execution_count": 105,
     "metadata": {},
     "output_type": "execute_result"
    }
   ],
   "source": [
    "m1"
   ]
  },
  {
   "cell_type": "code",
   "execution_count": 106,
   "id": "691fce30-c3fd-4c6f-9600-aecea6f5a6bc",
   "metadata": {},
   "outputs": [
    {
     "data": {
      "text/plain": [
       "tensor([1., 2., 3., 3., 4., 4.])"
      ]
     },
     "execution_count": 106,
     "metadata": {},
     "output_type": "execute_result"
    }
   ],
   "source": [
    "m1.reshape(6)"
   ]
  },
  {
   "cell_type": "code",
   "execution_count": 109,
   "id": "7c96fa37-ce7a-42e0-b07d-5baad5f2eed4",
   "metadata": {},
   "outputs": [
    {
     "data": {
      "text/plain": [
       "tensor([[[1., 2.]],\n",
       "\n",
       "        [[3., 3.]],\n",
       "\n",
       "        [[4., 4.]]])"
      ]
     },
     "execution_count": 109,
     "metadata": {},
     "output_type": "execute_result"
    }
   ],
   "source": [
    "m1.reshape(3, 1, 2)"
   ]
  },
  {
   "cell_type": "code",
   "execution_count": 110,
   "id": "fee55053-3c25-4f88-ba36-2c8c04a5f70f",
   "metadata": {},
   "outputs": [
    {
     "data": {
      "text/plain": [
       "tensor([[1., 2., 3.],\n",
       "        [3., 4., 4.]])"
      ]
     },
     "execution_count": 110,
     "metadata": {},
     "output_type": "execute_result"
    }
   ],
   "source": [
    "m1"
   ]
  },
  {
   "cell_type": "code",
   "execution_count": 111,
   "id": "affb4d06-a26c-43db-8f08-df06f1024e85",
   "metadata": {},
   "outputs": [
    {
     "data": {
      "text/plain": [
       "tensor([1., 2., 3., 3., 4., 4.])"
      ]
     },
     "execution_count": 111,
     "metadata": {},
     "output_type": "execute_result"
    }
   ],
   "source": [
    "m1.flatten()"
   ]
  },
  {
   "cell_type": "markdown",
   "id": "d2742312-e2dd-42eb-a73d-5549f1f822d3",
   "metadata": {},
   "source": [
    "### usqueeze"
   ]
  },
  {
   "cell_type": "code",
   "execution_count": 112,
   "id": "478fc441-e51c-46a9-b03b-b21a5b9558c8",
   "metadata": {},
   "outputs": [
    {
     "data": {
      "text/plain": [
       "tensor([1., 2., 3.])"
      ]
     },
     "execution_count": 112,
     "metadata": {},
     "output_type": "execute_result"
    }
   ],
   "source": [
    "vec = torch.Tensor([1, 2, 3])\n",
    "vec"
   ]
  },
  {
   "cell_type": "code",
   "execution_count": 113,
   "id": "c5b91cd5-89ce-4bfd-8396-ea174d597d2a",
   "metadata": {},
   "outputs": [
    {
     "data": {
      "text/plain": [
       "tensor([1., 2., 3.])"
      ]
     },
     "execution_count": 113,
     "metadata": {},
     "output_type": "execute_result"
    }
   ],
   "source": [
    "vec.t()"
   ]
  },
  {
   "cell_type": "code",
   "execution_count": 114,
   "id": "aed75fb0-e179-4676-bf5a-3bbf9976a9e3",
   "metadata": {},
   "outputs": [
    {
     "data": {
      "text/plain": [
       "torch.Size([3])"
      ]
     },
     "execution_count": 114,
     "metadata": {},
     "output_type": "execute_result"
    }
   ],
   "source": [
    "vec.shape"
   ]
  },
  {
   "cell_type": "code",
   "execution_count": 115,
   "id": "5f30186c-cece-4162-a2b9-cb1109036097",
   "metadata": {},
   "outputs": [
    {
     "data": {
      "text/plain": [
       "1"
      ]
     },
     "execution_count": 115,
     "metadata": {},
     "output_type": "execute_result"
    }
   ],
   "source": [
    "vec.ndim"
   ]
  },
  {
   "cell_type": "code",
   "execution_count": 118,
   "id": "f45e7eeb-7638-4ead-9491-08eea95f82bb",
   "metadata": {},
   "outputs": [
    {
     "data": {
      "text/plain": [
       "tensor([[1., 2., 3.]])"
      ]
     },
     "execution_count": 118,
     "metadata": {},
     "output_type": "execute_result"
    }
   ],
   "source": [
    "vecs = vec.unsqueeze(dim=0)\n",
    "vecs"
   ]
  },
  {
   "cell_type": "code",
   "execution_count": 120,
   "id": "6d7c1855-633a-4555-bb0f-bd28539ed8b7",
   "metadata": {},
   "outputs": [
    {
     "data": {
      "text/plain": [
       "tensor([1., 2., 3.])"
      ]
     },
     "execution_count": 120,
     "metadata": {},
     "output_type": "execute_result"
    }
   ],
   "source": [
    "vec"
   ]
  },
  {
   "cell_type": "code",
   "execution_count": 119,
   "id": "ddb4f11f-e52b-4676-8437-99b6b0300ea1",
   "metadata": {},
   "outputs": [
    {
     "data": {
      "text/plain": [
       "tensor([[1., 2., 3.]])"
      ]
     },
     "execution_count": 119,
     "metadata": {},
     "output_type": "execute_result"
    }
   ],
   "source": [
    "vecs"
   ]
  },
  {
   "cell_type": "code",
   "execution_count": 121,
   "id": "cfad1b23-860c-4605-a140-857e4efd5b06",
   "metadata": {},
   "outputs": [
    {
     "data": {
      "text/plain": [
       "torch.Size([1, 3])"
      ]
     },
     "execution_count": 121,
     "metadata": {},
     "output_type": "execute_result"
    }
   ],
   "source": [
    "vecs.shape"
   ]
  },
  {
   "cell_type": "code",
   "execution_count": 122,
   "id": "3758a158-9e9c-4caa-be0e-3eaccb2c42f2",
   "metadata": {},
   "outputs": [
    {
     "data": {
      "text/plain": [
       "torch.Size([3])"
      ]
     },
     "execution_count": 122,
     "metadata": {},
     "output_type": "execute_result"
    }
   ],
   "source": [
    "vec.shape"
   ]
  },
  {
   "cell_type": "code",
   "execution_count": 123,
   "id": "b153fc20-c0a5-4ae2-aca8-91720dbb6e24",
   "metadata": {},
   "outputs": [
    {
     "data": {
      "text/plain": [
       "tensor([[1., 2., 3.]])"
      ]
     },
     "execution_count": 123,
     "metadata": {},
     "output_type": "execute_result"
    }
   ],
   "source": [
    "vecs"
   ]
  },
  {
   "cell_type": "code",
   "execution_count": 124,
   "id": "496200d0-41d1-4029-8596-9ac0c09f359a",
   "metadata": {},
   "outputs": [
    {
     "data": {
      "text/plain": [
       "tensor([[1.],\n",
       "        [2.],\n",
       "        [3.]])"
      ]
     },
     "execution_count": 124,
     "metadata": {},
     "output_type": "execute_result"
    }
   ],
   "source": [
    "vecs.t()"
   ]
  },
  {
   "cell_type": "code",
   "execution_count": 125,
   "id": "6c1a2e6b-661f-4855-b987-e9ec3cb8608f",
   "metadata": {},
   "outputs": [
    {
     "data": {
      "text/plain": [
       "tensor([1., 2., 3.])"
      ]
     },
     "execution_count": 125,
     "metadata": {},
     "output_type": "execute_result"
    }
   ],
   "source": [
    "vec.t()"
   ]
  },
  {
   "cell_type": "markdown",
   "id": "26577b9d-d70c-45b5-be7c-b75fe3e3321a",
   "metadata": {},
   "source": [
    "### Tensor to Numpy"
   ]
  },
  {
   "cell_type": "code",
   "execution_count": 243,
   "id": "38194e54-13c3-4133-9e7f-802890872e86",
   "metadata": {},
   "outputs": [
    {
     "data": {
      "text/plain": [
       "tensor([1., 2., 3.])"
      ]
     },
     "execution_count": 243,
     "metadata": {},
     "output_type": "execute_result"
    }
   ],
   "source": [
    "vec = torch.Tensor([1, 2, 3])\n",
    "vec"
   ]
  },
  {
   "cell_type": "code",
   "execution_count": 245,
   "id": "4cbcf5c4-0b5a-40d7-84c1-b1d2564938d8",
   "metadata": {},
   "outputs": [
    {
     "data": {
      "text/plain": [
       "array([1., 2., 3.], dtype=float32)"
      ]
     },
     "execution_count": 245,
     "metadata": {},
     "output_type": "execute_result"
    }
   ],
   "source": [
    "vec_np = vec.numpy()\n",
    "vec_np"
   ]
  },
  {
   "cell_type": "code",
   "execution_count": 248,
   "id": "0f013e50-3130-4082-b285-1ae6c5d2ccc6",
   "metadata": {},
   "outputs": [
    {
     "data": {
      "text/plain": [
       "array([[1, 2],\n",
       "       [3, 4]])"
      ]
     },
     "execution_count": 248,
     "metadata": {},
     "output_type": "execute_result"
    }
   ],
   "source": [
    "matrix_np = np.array([[1, 2],\n",
    "                      [3, 4]])\n",
    "matrix_np"
   ]
  },
  {
   "cell_type": "code",
   "execution_count": 249,
   "id": "4cb8ca15-4f9c-489d-a67f-939e0dffc26d",
   "metadata": {},
   "outputs": [
    {
     "data": {
      "text/plain": [
       "tensor([[1, 2],\n",
       "        [3, 4]])"
      ]
     },
     "execution_count": 249,
     "metadata": {},
     "output_type": "execute_result"
    }
   ],
   "source": [
    "matrix_tr = torch.from_numpy(matrix_np)\n",
    "matrix_tr"
   ]
  },
  {
   "cell_type": "markdown",
   "id": "f96cff0c-c38e-434e-a09e-dc580cabc44f",
   "metadata": {},
   "source": [
    "### Tensor Creation"
   ]
  },
  {
   "cell_type": "code",
   "execution_count": 131,
   "id": "acba8371-82ef-4e48-a039-4b62ac8ca9a1",
   "metadata": {},
   "outputs": [
    {
     "data": {
      "text/plain": [
       "tensor([[0., 0., 0.],\n",
       "        [0., 0., 0.],\n",
       "        [0., 0., 0.],\n",
       "        [0., 0., 0.],\n",
       "        [0., 0., 0.],\n",
       "        [0., 0., 0.]])"
      ]
     },
     "execution_count": 131,
     "metadata": {},
     "output_type": "execute_result"
    }
   ],
   "source": [
    "torch.zeros(6, 3)"
   ]
  },
  {
   "cell_type": "code",
   "execution_count": 132,
   "id": "cd75307d-70e2-4552-8097-bf94cf7fe408",
   "metadata": {},
   "outputs": [
    {
     "data": {
      "text/plain": [
       "tensor([[1., 1., 1.],\n",
       "        [1., 1., 1.]])"
      ]
     },
     "execution_count": 132,
     "metadata": {},
     "output_type": "execute_result"
    }
   ],
   "source": [
    "torch.ones(2, 3)"
   ]
  },
  {
   "cell_type": "code",
   "execution_count": 135,
   "id": "ab9ed374-e717-4727-8cac-6e119a42a84e",
   "metadata": {},
   "outputs": [
    {
     "data": {
      "text/plain": [
       "tensor([[55, 55],\n",
       "        [55, 55],\n",
       "        [55, 55]])"
      ]
     },
     "execution_count": 135,
     "metadata": {},
     "output_type": "execute_result"
    }
   ],
   "source": [
    "torch.full((3, 2), 55)"
   ]
  },
  {
   "cell_type": "code",
   "execution_count": 137,
   "id": "0e78fe9c-5a1d-426c-8fb5-682bab0085ca",
   "metadata": {},
   "outputs": [
    {
     "data": {
      "text/plain": [
       "tensor([[ 0.3583,  1.0882],\n",
       "        [-2.4244, -0.7644],\n",
       "        [-0.0251,  0.5025]])"
      ]
     },
     "execution_count": 137,
     "metadata": {},
     "output_type": "execute_result"
    }
   ],
   "source": [
    "rd = torch.randn(3, 2)\n",
    "rd"
   ]
  },
  {
   "cell_type": "markdown",
   "id": "cd6e8de0-80ea-4309-b54f-7b43b96c3a01",
   "metadata": {},
   "source": [
    "## nn Module"
   ]
  },
  {
   "cell_type": "code",
   "execution_count": 138,
   "id": "5ad2f419-7f8c-4b7f-9830-e60be42b7576",
   "metadata": {},
   "outputs": [],
   "source": [
    "import torch.nn as nn"
   ]
  },
  {
   "cell_type": "markdown",
   "id": "18cbf379-37bf-4c81-bb67-88e511205c9d",
   "metadata": {},
   "source": [
    "### nn.Linear"
   ]
  },
  {
   "cell_type": "code",
   "execution_count": 146,
   "id": "86163b50-0fcd-4e00-b035-84562e11a75e",
   "metadata": {},
   "outputs": [],
   "source": [
    "lin1 = nn.Linear(\n",
    "    in_features= 4,\n",
    "    out_features= 5 \n",
    ")"
   ]
  },
  {
   "cell_type": "code",
   "execution_count": 147,
   "id": "c4530424-ac0c-4a42-ad77-681b64ad70bf",
   "metadata": {},
   "outputs": [
    {
     "data": {
      "text/plain": [
       "tensor([1., 2., 3., 4.])"
      ]
     },
     "execution_count": 147,
     "metadata": {},
     "output_type": "execute_result"
    }
   ],
   "source": [
    "input = torch.Tensor([1, 2, 3, 4])\n",
    "input"
   ]
  },
  {
   "cell_type": "code",
   "execution_count": 152,
   "id": "600cad83-aabb-4098-ae29-19baeb763b6d",
   "metadata": {},
   "outputs": [
    {
     "data": {
      "text/plain": [
       "tensor([ 0.6527, -0.0510,  0.6981,  3.9205, -0.6515], grad_fn=<ViewBackward0>)"
      ]
     },
     "execution_count": 152,
     "metadata": {},
     "output_type": "execute_result"
    }
   ],
   "source": [
    "res1 = lin1(input)\n",
    "res1"
   ]
  },
  {
   "cell_type": "code",
   "execution_count": 153,
   "id": "76756c48-ea15-4cad-b53a-e53890b31075",
   "metadata": {},
   "outputs": [
    {
     "data": {
      "text/plain": [
       "torch.Size([5])"
      ]
     },
     "execution_count": 153,
     "metadata": {},
     "output_type": "execute_result"
    }
   ],
   "source": [
    "res1.shape"
   ]
  },
  {
   "cell_type": "code",
   "execution_count": 149,
   "id": "cb5066ab-b71e-4f7a-9a52-3635c6c0aabd",
   "metadata": {},
   "outputs": [
    {
     "data": {
      "text/plain": [
       "Parameter containing:\n",
       "tensor([[ 0.2994,  0.3813,  0.3518, -0.2679],\n",
       "        [ 0.1156, -0.4725, -0.3124,  0.4607],\n",
       "        [-0.4372, -0.0886, -0.1835,  0.4572],\n",
       "        [ 0.4710,  0.1227,  0.4908,  0.3300],\n",
       "        [ 0.0223, -0.0151, -0.3965,  0.2584]], requires_grad=True)"
      ]
     },
     "execution_count": 149,
     "metadata": {},
     "output_type": "execute_result"
    }
   ],
   "source": [
    "A = lin1.weight\n",
    "A"
   ]
  },
  {
   "cell_type": "code",
   "execution_count": 150,
   "id": "4f4d49c0-a7c4-4390-9ee7-530daa420189",
   "metadata": {},
   "outputs": [
    {
     "data": {
      "text/plain": [
       "Parameter containing:\n",
       "tensor([-0.3931, -0.1271,  0.0340,  0.4120, -0.4876], requires_grad=True)"
      ]
     },
     "execution_count": 150,
     "metadata": {},
     "output_type": "execute_result"
    }
   ],
   "source": [
    "b = lin1.bias\n",
    "b"
   ]
  },
  {
   "cell_type": "code",
   "execution_count": 151,
   "id": "85c6ba56-bb74-45e6-be19-e9f76480c2a1",
   "metadata": {},
   "outputs": [],
   "source": [
    "lin2 = nn.Linear(\n",
    "    in_features= 5, \n",
    "    out_features= 3\n",
    ")"
   ]
  },
  {
   "cell_type": "code",
   "execution_count": 156,
   "id": "31a23f37-285d-470b-bae7-79e04a626b65",
   "metadata": {},
   "outputs": [
    {
     "data": {
      "text/plain": [
       "tensor([-1.1904,  0.6140,  0.3755], grad_fn=<ViewBackward0>)"
      ]
     },
     "execution_count": 156,
     "metadata": {},
     "output_type": "execute_result"
    }
   ],
   "source": [
    "res2 = lin2(res1)\n",
    "res2"
   ]
  },
  {
   "cell_type": "code",
   "execution_count": 155,
   "id": "efe1b2c8-a501-4fac-8ab6-96a02e30e7d0",
   "metadata": {},
   "outputs": [
    {
     "data": {
      "text/plain": [
       "torch.Size([5])"
      ]
     },
     "execution_count": 155,
     "metadata": {},
     "output_type": "execute_result"
    }
   ],
   "source": [
    "res.shape"
   ]
  },
  {
   "cell_type": "code",
   "execution_count": 157,
   "id": "e5462e4e-3dd1-486f-a5fd-4d0500ba8326",
   "metadata": {},
   "outputs": [
    {
     "data": {
      "text/plain": [
       "torch.Size([3])"
      ]
     },
     "execution_count": 157,
     "metadata": {},
     "output_type": "execute_result"
    }
   ],
   "source": [
    "res2.shape"
   ]
  },
  {
   "cell_type": "code",
   "execution_count": 158,
   "id": "3a17be7b-449c-48b6-9ffb-69c55adf4a4b",
   "metadata": {},
   "outputs": [],
   "source": [
    "lin3 = nn.Linear(3, 2)"
   ]
  },
  {
   "cell_type": "code",
   "execution_count": 159,
   "id": "2ab7933e-bd7e-4fa4-9571-e7dfc3be74ee",
   "metadata": {},
   "outputs": [
    {
     "data": {
      "text/plain": [
       "tensor([ 0.1413, -0.2351], grad_fn=<ViewBackward0>)"
      ]
     },
     "execution_count": 159,
     "metadata": {},
     "output_type": "execute_result"
    }
   ],
   "source": [
    "res3 = lin3(res2)\n",
    "res3"
   ]
  },
  {
   "cell_type": "markdown",
   "id": "03cf6028-1236-4002-a84c-415f31296869",
   "metadata": {},
   "source": [
    "### nn.Sequential"
   ]
  },
  {
   "cell_type": "code",
   "execution_count": 160,
   "id": "eda04006-769d-49da-b707-fe8f327e5cbf",
   "metadata": {},
   "outputs": [
    {
     "data": {
      "text/plain": [
       "tensor([1., 2., 3., 4.])"
      ]
     },
     "execution_count": 160,
     "metadata": {},
     "output_type": "execute_result"
    }
   ],
   "source": [
    "input"
   ]
  },
  {
   "cell_type": "code",
   "execution_count": 161,
   "id": "99002cc9-8b9d-4ccf-a1ff-d3770fae019e",
   "metadata": {},
   "outputs": [],
   "source": [
    "model = nn.Sequential(\n",
    "    nn.Linear(4, 5),\n",
    "    nn.Linear(5, 3),\n",
    "    nn.Linear(3, 2)\n",
    ")"
   ]
  },
  {
   "cell_type": "code",
   "execution_count": 162,
   "id": "29696d98-96e2-418e-b8bc-cf04378fe74d",
   "metadata": {},
   "outputs": [
    {
     "data": {
      "text/plain": [
       "Sequential(\n",
       "  (0): Linear(in_features=4, out_features=5, bias=True)\n",
       "  (1): Linear(in_features=5, out_features=3, bias=True)\n",
       "  (2): Linear(in_features=3, out_features=2, bias=True)\n",
       ")"
      ]
     },
     "execution_count": 162,
     "metadata": {},
     "output_type": "execute_result"
    }
   ],
   "source": [
    "model"
   ]
  },
  {
   "cell_type": "code",
   "execution_count": 163,
   "id": "d6dda02b-0ddd-468d-8c91-721a9f0f178c",
   "metadata": {},
   "outputs": [
    {
     "data": {
      "text/plain": [
       "tensor([-1.2047, -0.3935], grad_fn=<ViewBackward0>)"
      ]
     },
     "execution_count": 163,
     "metadata": {},
     "output_type": "execute_result"
    }
   ],
   "source": [
    "model(input)"
   ]
  },
  {
   "cell_type": "markdown",
   "id": "e46f431d-2740-47e6-a011-1b7fd058ae55",
   "metadata": {},
   "source": [
    "## Activation Functions "
   ]
  },
  {
   "cell_type": "markdown",
   "id": "79ce65a9-271e-41dd-8ce1-871ede564b0b",
   "metadata": {},
   "source": [
    "$$ \\text{ReLU}(x) = \\max(0, x)$$"
   ]
  },
  {
   "cell_type": "code",
   "execution_count": 165,
   "id": "40ec946f-340d-4fd1-8226-57ec156201a4",
   "metadata": {},
   "outputs": [],
   "source": [
    "relu = nn.ReLU()"
   ]
  },
  {
   "cell_type": "code",
   "execution_count": 167,
   "id": "4f3c4af9-7874-42bf-92bd-75996b9cf651",
   "metadata": {},
   "outputs": [
    {
     "data": {
      "text/plain": [
       "tensor([ 1.,  2., -3.,  4.])"
      ]
     },
     "execution_count": 167,
     "metadata": {},
     "output_type": "execute_result"
    }
   ],
   "source": [
    "input = torch.Tensor([1, 2, -3, 4])\n",
    "input"
   ]
  },
  {
   "cell_type": "code",
   "execution_count": 168,
   "id": "870a461a-1983-4282-ae96-ff7e928743ea",
   "metadata": {},
   "outputs": [
    {
     "data": {
      "text/plain": [
       "tensor([1., 2., 0., 4.])"
      ]
     },
     "execution_count": 168,
     "metadata": {},
     "output_type": "execute_result"
    }
   ],
   "source": [
    "relu(input)"
   ]
  },
  {
   "cell_type": "markdown",
   "id": "7feba3ca-3001-4f1d-bbea-49b362d74db8",
   "metadata": {},
   "source": [
    "$$ \\text{Sigmoid}(x) = \\frac{1}{1 + e^{-x}} \\in [0, 1]$$"
   ]
  },
  {
   "cell_type": "code",
   "execution_count": 170,
   "id": "10653d0b-1b9f-4624-b8fd-5324bff37304",
   "metadata": {},
   "outputs": [],
   "source": [
    "sigmoid = nn.Sigmoid()"
   ]
  },
  {
   "cell_type": "code",
   "execution_count": 171,
   "id": "e3c6f886-a6c7-4ec1-8291-3433ae7ded76",
   "metadata": {},
   "outputs": [
    {
     "data": {
      "text/plain": [
       "tensor([0.7311, 0.8808, 0.0474, 0.9820])"
      ]
     },
     "execution_count": 171,
     "metadata": {},
     "output_type": "execute_result"
    }
   ],
   "source": [
    "sigmoid(input)"
   ]
  },
  {
   "cell_type": "code",
   "execution_count": 198,
   "id": "1a5a669a-b81f-4adf-83e2-694ee508a4b8",
   "metadata": {},
   "outputs": [],
   "source": [
    "model = nn.Sequential(\n",
    "    nn.Linear(4, 5),\n",
    "    nn.ReLU(),\n",
    "    nn.Linear(5, 3),\n",
    "    nn.ReLU(),\n",
    "    nn.Linear(3, 2),\n",
    "    nn.ReLU()\n",
    ")"
   ]
  },
  {
   "cell_type": "code",
   "execution_count": 199,
   "id": "591e1545-beb0-4548-a2c6-d2a7062b289b",
   "metadata": {},
   "outputs": [
    {
     "data": {
      "text/plain": [
       "tensor([[ 0.2212, -0.0319,  1.3592, -0.6210]])"
      ]
     },
     "execution_count": 199,
     "metadata": {},
     "output_type": "execute_result"
    }
   ],
   "source": [
    "input = torch.randn(1, 4)\n",
    "input"
   ]
  },
  {
   "cell_type": "code",
   "execution_count": 200,
   "id": "06196633-c998-473b-b803-9d0ec256245f",
   "metadata": {},
   "outputs": [
    {
     "data": {
      "text/plain": [
       "tensor([[0.2481, 0.0000]], grad_fn=<ReluBackward0>)"
      ]
     },
     "execution_count": 200,
     "metadata": {},
     "output_type": "execute_result"
    }
   ],
   "source": [
    "model(input)"
   ]
  },
  {
   "cell_type": "code",
   "execution_count": 202,
   "id": "03a6f0ad-b6cc-4819-ac4c-8239d78bfa04",
   "metadata": {},
   "outputs": [],
   "source": [
    "def simgoid(input: torch.Tensor):\n",
    "    return 1 / (1 + torch.exp(- input))"
   ]
  },
  {
   "cell_type": "code",
   "execution_count": 203,
   "id": "2a3b0ab3-7647-469a-8aba-345ee93667f0",
   "metadata": {},
   "outputs": [
    {
     "data": {
      "text/plain": [
       "tensor([[ 0.0329, -0.0703,  0.4665,  0.1911]])"
      ]
     },
     "execution_count": 203,
     "metadata": {},
     "output_type": "execute_result"
    }
   ],
   "source": [
    "input = torch.randn(1, 4)\n",
    "input"
   ]
  },
  {
   "cell_type": "code",
   "execution_count": 204,
   "id": "83d3b7b0-28c5-4225-9e19-1e981954f504",
   "metadata": {},
   "outputs": [
    {
     "data": {
      "text/plain": [
       "tensor([[0.5082, 0.4824, 0.6146, 0.5476]])"
      ]
     },
     "execution_count": 204,
     "metadata": {},
     "output_type": "execute_result"
    }
   ],
   "source": [
    "sigmoid(input)"
   ]
  },
  {
   "cell_type": "markdown",
   "id": "985ec45d-f327-4d5c-a127-5a0388273fd9",
   "metadata": {},
   "source": [
    "## class "
   ]
  },
  {
   "cell_type": "code",
   "execution_count": 209,
   "id": "14d77e79-ac40-4d0c-8970-f3f8cfddc6b3",
   "metadata": {},
   "outputs": [],
   "source": [
    "class NeuralNetwork(nn.Module):\n",
    "\n",
    "    def __init__(self):\n",
    "        super(NeuralNetwork, self).__init__()\n",
    "\n",
    "        self.lin1 = nn.Linear(4, 5)\n",
    "        self.lin2 = nn.Linear(5, 3)\n",
    "        self.lin3 = nn.Linear(3, 2)\n",
    "\n",
    "    def forward(self, x: torch.Tensor):\n",
    "        res1 = self.lin1(x)\n",
    "\n",
    "        res2 = self.lin2(res1)\n",
    "\n",
    "        res3 = self.lin3(res2)\n",
    "\n",
    "        return res3"
   ]
  },
  {
   "cell_type": "code",
   "execution_count": 210,
   "id": "c7595ddc-ddf2-4d44-9240-6b6e5982c019",
   "metadata": {},
   "outputs": [],
   "source": [
    "model = NeuralNetwork()"
   ]
  },
  {
   "cell_type": "code",
   "execution_count": 211,
   "id": "85ef235e-e40e-48c7-9525-76db8e331a0f",
   "metadata": {},
   "outputs": [
    {
     "data": {
      "text/plain": [
       "tensor([[ 0.0965, -0.7289, -0.7876,  1.3844]])"
      ]
     },
     "execution_count": 211,
     "metadata": {},
     "output_type": "execute_result"
    }
   ],
   "source": [
    "input = torch.randn(1, 4)\n",
    "input"
   ]
  },
  {
   "cell_type": "code",
   "execution_count": 212,
   "id": "ab2fc556-457c-4d54-b47e-ea06d0c568b6",
   "metadata": {},
   "outputs": [
    {
     "data": {
      "text/plain": [
       "tensor([[ 0.8351, -0.2027]], grad_fn=<AddmmBackward0>)"
      ]
     },
     "execution_count": 212,
     "metadata": {},
     "output_type": "execute_result"
    }
   ],
   "source": [
    "model(input)"
   ]
  },
  {
   "cell_type": "code",
   "execution_count": 221,
   "id": "4d4809ce-c8be-4445-bda1-756e37be427b",
   "metadata": {},
   "outputs": [],
   "source": [
    "class NeuralNetworkV2(nn.Module):\n",
    "\n",
    "    def __init__(self):\n",
    "        super(NeuralNetworkV2, self).__init__()\n",
    "    \n",
    "        self.cnn = nn.Sequential(\n",
    "            nn.Linear(4, 5),\n",
    "            nn.ReLU(),\n",
    "            nn.Linear(5, 3),\n",
    "            nn.ReLU(),\n",
    "            nn.Linear(3, 2),\n",
    "            nn.ReLU()\n",
    "        )\n",
    "\n",
    "        self.fc = nn.Linear(2, 1)\n",
    "\n",
    "    def forward(self, x: torch.Tensor):\n",
    "        \n",
    "        res1 = self.mlp(x)\n",
    "\n",
    "        res2 = self.fc(res1)\n",
    "\n",
    "        return res2"
   ]
  },
  {
   "cell_type": "code",
   "execution_count": 222,
   "id": "ae97f7e5-4cff-4dfe-b31e-70664b5074ef",
   "metadata": {},
   "outputs": [],
   "source": [
    "model2 = NeuralNetworkV2()"
   ]
  },
  {
   "cell_type": "code",
   "execution_count": 223,
   "id": "63e7c33e-94eb-4493-8401-be09faf4e1c5",
   "metadata": {},
   "outputs": [
    {
     "data": {
      "text/plain": [
       "tensor([[0.2383]], grad_fn=<AddmmBackward0>)"
      ]
     },
     "execution_count": 223,
     "metadata": {},
     "output_type": "execute_result"
    }
   ],
   "source": [
    "model2(input)"
   ]
  },
  {
   "cell_type": "code",
   "execution_count": 224,
   "id": "ec6c2ce0-35c5-4eec-b98d-cdb50490127f",
   "metadata": {},
   "outputs": [],
   "source": [
    "class CosActivation(nn.Module):\n",
    "\n",
    "    def __init__(self):\n",
    "        super(CosActivation, self).__init__()\n",
    "\n",
    "    def forward(self, x: torch.Tensor):\n",
    "        return torch.cos(x)"
   ]
  },
  {
   "cell_type": "code",
   "execution_count": null,
   "id": "58667368-7142-4334-804a-959a47f472c7",
   "metadata": {},
   "outputs": [],
   "source": [
    "class CosActivation(nn.Module):\n",
    "\n",
    "    def __init__(self):\n",
    "        super(CosActivation, self).__init__()\n",
    "\n",
    "    def forward(self, x: torch.Tensor):\n",
    "        return torch.cos(x)"
   ]
  },
  {
   "cell_type": "code",
   "execution_count": 225,
   "id": "f224c05b-83ba-40fa-9534-7002ebc68c1b",
   "metadata": {},
   "outputs": [],
   "source": [
    "cosact = CosActivation()"
   ]
  },
  {
   "cell_type": "code",
   "execution_count": 226,
   "id": "679101b6-8b81-43cd-ae52-b711b9b5b571",
   "metadata": {},
   "outputs": [
    {
     "data": {
      "text/plain": [
       "tensor([[ 0.0965, -0.7289, -0.7876,  1.3844]])"
      ]
     },
     "execution_count": 226,
     "metadata": {},
     "output_type": "execute_result"
    }
   ],
   "source": [
    "input"
   ]
  },
  {
   "cell_type": "code",
   "execution_count": 228,
   "id": "43252964-d718-4748-9995-ed52394eea5b",
   "metadata": {},
   "outputs": [
    {
     "data": {
      "text/plain": [
       "tensor([[0.9953, 0.7459, 0.7055, 0.1853]])"
      ]
     },
     "execution_count": 228,
     "metadata": {},
     "output_type": "execute_result"
    }
   ],
   "source": [
    "cosact(input)"
   ]
  },
  {
   "cell_type": "code",
   "execution_count": 230,
   "id": "513db31e-11b0-4399-9ccb-e2ece11c6e45",
   "metadata": {},
   "outputs": [],
   "source": [
    "model = nn.Sequential(\n",
    "    nn.Linear(4, 5),\n",
    "    CosActivation(),\n",
    "    nn.Linear(5, 1),\n",
    "    CosActivation()\n",
    ")"
   ]
  },
  {
   "cell_type": "code",
   "execution_count": 233,
   "id": "eaa620eb-540a-4d0b-b5d7-f08e79e379be",
   "metadata": {},
   "outputs": [
    {
     "data": {
      "text/plain": [
       "tensor([[0.9978]], grad_fn=<CosBackward0>)"
      ]
     },
     "execution_count": 233,
     "metadata": {},
     "output_type": "execute_result"
    }
   ],
   "source": [
    "model(input)"
   ]
  },
  {
   "cell_type": "code",
   "execution_count": 234,
   "id": "98dda9ba-3d3f-4772-a38f-c9479a3df45c",
   "metadata": {},
   "outputs": [
    {
     "data": {
      "text/plain": [
       "Sequential(\n",
       "  (0): Linear(in_features=4, out_features=5, bias=True)\n",
       "  (1): CosActivation()\n",
       "  (2): Linear(in_features=5, out_features=1, bias=True)\n",
       "  (3): CosActivation()\n",
       ")"
      ]
     },
     "execution_count": 234,
     "metadata": {},
     "output_type": "execute_result"
    }
   ],
   "source": [
    "model"
   ]
  },
  {
   "cell_type": "code",
   "execution_count": 238,
   "id": "2fb4702c-1ae4-4bfb-b39e-65ab2254a496",
   "metadata": {},
   "outputs": [],
   "source": [
    "tanh = nn.Tanh()"
   ]
  },
  {
   "cell_type": "code",
   "execution_count": 239,
   "id": "f704c1eb-12ce-47ec-a860-85cb43549cba",
   "metadata": {},
   "outputs": [
    {
     "data": {
      "text/plain": [
       "tensor([[ 0.0965, -0.7289, -0.7876,  1.3844]])"
      ]
     },
     "execution_count": 239,
     "metadata": {},
     "output_type": "execute_result"
    }
   ],
   "source": [
    "input"
   ]
  },
  {
   "cell_type": "code",
   "execution_count": 240,
   "id": "7754f763-7b80-4069-8924-12e903567494",
   "metadata": {},
   "outputs": [
    {
     "data": {
      "text/plain": [
       "tensor([[ 0.0962, -0.6224, -0.6571,  0.8819]])"
      ]
     },
     "execution_count": 240,
     "metadata": {},
     "output_type": "execute_result"
    }
   ],
   "source": [
    "tanh(input)"
   ]
  },
  {
   "cell_type": "markdown",
   "id": "8dbacdca-3cd3-459f-ab86-e0835555e8ac",
   "metadata": {},
   "source": [
    "## Linear Regression"
   ]
  },
  {
   "cell_type": "code",
   "execution_count": 241,
   "id": "2ef53189-7f1c-4733-a3ea-1d516a9f6bbf",
   "metadata": {},
   "outputs": [
    {
     "name": "stderr",
     "output_type": "stream",
     "text": [
      "/home/moussa/.local/lib/python3.11/site-packages/matplotlib/projections/__init__.py:63: UserWarning: Unable to import Axes3D. This may be due to multiple versions of Matplotlib being installed (e.g. as a system package and as a pip package). As a result, the 3D projection is not available.\n",
      "  warnings.warn(\"Unable to import Axes3D. This may be due to multiple versions of \"\n"
     ]
    }
   ],
   "source": [
    "import torch, torch.nn as nn\n",
    "import torch.optim as optim\n",
    "\n",
    "import numpy as np\n",
    "import matplotlib.pyplot as plt"
   ]
  },
  {
   "cell_type": "code",
   "execution_count": 337,
   "id": "1152ba46-8e28-4177-9000-bb1fddf3ee18",
   "metadata": {},
   "outputs": [
    {
     "data": {
      "text/plain": [
       "array([0.        , 0.01010101, 0.02020202, 0.03030303, 0.04040404,\n",
       "       0.05050505, 0.06060606, 0.07070707, 0.08080808, 0.09090909])"
      ]
     },
     "execution_count": 337,
     "metadata": {},
     "output_type": "execute_result"
    }
   ],
   "source": [
    "x = np.linspace(0, 1, 100)\n",
    "x[:10]"
   ]
  },
  {
   "cell_type": "code",
   "execution_count": 338,
   "id": "2800010a-eed9-4a2e-adc2-b9bd8d63bb52",
   "metadata": {},
   "outputs": [],
   "source": [
    "y_extact = 3 * x - 2\n",
    "y = 3 * x - 2 + 0.1 * np.random.randn(100)"
   ]
  },
  {
   "cell_type": "code",
   "execution_count": 339,
   "id": "ca16bb35-eb97-4a3d-aad0-1ff8ebeef2fc",
   "metadata": {},
   "outputs": [
    {
     "data": {
      "text/plain": [
       "<matplotlib.collections.PathCollection at 0x7b47566797d0>"
      ]
     },
     "execution_count": 339,
     "metadata": {},
     "output_type": "execute_result"
    },
    {
     "data": {
      "image/png": "[encoded data removed]",
      "text/plain": [
       "<Figure size 640x480 with 1 Axes>"
      ]
     },
     "metadata": {},
     "output_type": "display_data"
    }
   ],
   "source": [
    "plt.plot(x, y_extact, color=\"r\")\n",
    "plt.scatter(x, y)"
   ]
  },
  {
   "cell_type": "code",
   "execution_count": 340,
   "id": "48cf28a9-026a-45e6-8325-3d6457480ae5",
   "metadata": {},
   "outputs": [
    {
     "data": {
      "text/plain": [
       "array([0.        , 0.01010101, 0.02020202, 0.03030303, 0.04040404,\n",
       "       0.05050505, 0.06060606, 0.07070707, 0.08080808, 0.09090909])"
      ]
     },
     "execution_count": 340,
     "metadata": {},
     "output_type": "execute_result"
    }
   ],
   "source": [
    "x[:10]"
   ]
  },
  {
   "cell_type": "code",
   "execution_count": 341,
   "id": "047f5550-743f-4c6e-8127-6cdcc063efb5",
   "metadata": {},
   "outputs": [
    {
     "data": {
      "text/plain": [
       "array([-1.88958333, -2.03057136, -1.72831587, -2.00670639, -1.74008209,\n",
       "       -1.96733566, -1.81593623, -1.84770889, -1.82735435, -1.58014918])"
      ]
     },
     "execution_count": 341,
     "metadata": {},
     "output_type": "execute_result"
    }
   ],
   "source": [
    "y[:10]"
   ]
  },
  {
   "cell_type": "code",
   "execution_count": 342,
   "id": "9c59bf75-5f13-4888-a46d-91e2b8fec523",
   "metadata": {},
   "outputs": [],
   "source": [
    "tr_x = torch.from_numpy(x).unsqueeze(0).t().type(torch.float32)\n",
    "tr_y = torch.from_numpy(y).unsqueeze(0).t().type(torch.float32)"
   ]
  },
  {
   "cell_type": "code",
   "execution_count": 343,
   "id": "f4f9838b-a4a3-4c24-96c7-60d0a25f0345",
   "metadata": {},
   "outputs": [],
   "source": [
    "class LinearRegressionModel(nn.Module):\n",
    "\n",
    "    def __init__(self):\n",
    "        super(LinearRegressionModel, self).__init__()\n",
    "\n",
    "        self.layer = nn.Linear(\n",
    "            in_features= 1,\n",
    "            out_features= 1\n",
    "        )\n",
    "\n",
    "    def forward(self, x):\n",
    "        return self.layer(x)"
   ]
  },
  {
   "cell_type": "code",
   "execution_count": 344,
   "id": "44007a76-0422-452d-aa2e-e51937629fab",
   "metadata": {},
   "outputs": [],
   "source": [
    "lrmodel = LinearRegressionModel()"
   ]
  },
  {
   "cell_type": "code",
   "execution_count": 345,
   "id": "d9d0e33e-50a3-4f81-a90a-b36c16db752d",
   "metadata": {},
   "outputs": [],
   "source": [
    "input = tr_x[10]"
   ]
  },
  {
   "cell_type": "code",
   "execution_count": 346,
   "id": "81dc4b79-27ba-4403-b2bc-772348b98062",
   "metadata": {},
   "outputs": [
    {
     "data": {
      "text/plain": [
       "tensor([0.1010])"
      ]
     },
     "execution_count": 346,
     "metadata": {},
     "output_type": "execute_result"
    }
   ],
   "source": [
    "tr_x[10]"
   ]
  },
  {
   "cell_type": "code",
   "execution_count": 347,
   "id": "329273a5-55ef-42d5-9237-4bf116b616d0",
   "metadata": {},
   "outputs": [
    {
     "data": {
      "text/plain": [
       "tensor([-0.0818], grad_fn=<ViewBackward0>)"
      ]
     },
     "execution_count": 347,
     "metadata": {},
     "output_type": "execute_result"
    }
   ],
   "source": [
    "res = lrmodel(input)\n",
    "res"
   ]
  },
  {
   "cell_type": "code",
   "execution_count": 348,
   "id": "a88b3ea6-2e35-4a5f-8513-73151b1a164b",
   "metadata": {},
   "outputs": [
    {
     "data": {
      "text/plain": [
       "tensor([-1.7196])"
      ]
     },
     "execution_count": 348,
     "metadata": {},
     "output_type": "execute_result"
    }
   ],
   "source": [
    "tr_y[10]"
   ]
  },
  {
   "cell_type": "code",
   "execution_count": 349,
   "id": "e9f1a30f-14cf-4f01-b5a5-1ec8501aca1c",
   "metadata": {},
   "outputs": [
    {
     "data": {
      "text/plain": [
       "tensor([2.6822], grad_fn=<PowBackward0>)"
      ]
     },
     "execution_count": 349,
     "metadata": {},
     "output_type": "execute_result"
    }
   ],
   "source": [
    "(res - tr_y[10])**2"
   ]
  },
  {
   "cell_type": "code",
   "execution_count": 350,
   "id": "1c1d38ec-caa9-4845-b745-27a728bade20",
   "metadata": {},
   "outputs": [],
   "source": [
    "mse = nn.MSELoss()"
   ]
  },
  {
   "cell_type": "code",
   "execution_count": 351,
   "id": "34fcf980-7c20-4319-93a7-6fb6d8c956e2",
   "metadata": {},
   "outputs": [],
   "source": [
    "opt = torch.optim.Adam(lrmodel.parameters(), lr= 0.01)"
   ]
  },
  {
   "cell_type": "code",
   "execution_count": 352,
   "id": "777798c7-9afc-4f7d-b470-6f80cc622746",
   "metadata": {},
   "outputs": [],
   "source": [
    "y_pred_before_training = lrmodel(tr_x)"
   ]
  },
  {
   "cell_type": "code",
   "execution_count": 353,
   "id": "a442f818-91fc-45b9-9ce4-33b66040371f",
   "metadata": {},
   "outputs": [
    {
     "data": {
      "text/plain": [
       "<matplotlib.collections.PathCollection at 0x7b47566d3050>"
      ]
     },
     "execution_count": 353,
     "metadata": {},
     "output_type": "execute_result"
    },
    {
     "data": {
      "image/png": "[encoded data removed]",
      "text/plain": [
       "<Figure size 640x480 with 1 Axes>"
      ]
     },
     "metadata": {},
     "output_type": "display_data"
    }
   ],
   "source": [
    "y_pred_tensor = lrmodel(tr_x)\n",
    "plt.scatter(x, y, color=\"r\")\n",
    "plt.scatter(x, y_pred_tensor.detach().numpy())"
   ]
  },
  {
   "cell_type": "code",
   "execution_count": 374,
   "id": "b3e82f2c-ee30-49d7-9cf4-742d46d24670",
   "metadata": {},
   "outputs": [],
   "source": [
    "def train():\n",
    "    for xv, yv  in zip(tr_x, tr_y):\n",
    "    \n",
    "        opt.zero_grad()\n",
    "    \n",
    "        y_pred = lrmodel(xv)\n",
    "    \n",
    "        loss = mse(y_pred, yv)\n",
    "    \n",
    "        loss.backward()\n",
    "    \n",
    "        opt.step()"
   ]
  },
  {
   "cell_type": "code",
   "execution_count": 375,
   "id": "0a13712d-756c-4988-87fe-33f876938659",
   "metadata": {},
   "outputs": [],
   "source": [
    "for epoch in range(100):\n",
    "    train()"
   ]
  },
  {
   "cell_type": "code",
   "execution_count": 376,
   "id": "b9b6eb32-5740-4b4c-829c-20ef9e5757df",
   "metadata": {},
   "outputs": [
    {
     "data": {
      "text/plain": [
       "<matplotlib.collections.PathCollection at 0x7b47561b6dd0>"
      ]
     },
     "execution_count": 376,
     "metadata": {},
     "output_type": "execute_result"
    },
    {
     "data": {
      "image/png": "[encoded data removed]",
      "text/plain": [
       "<Figure size 640x480 with 1 Axes>"
      ]
     },
     "metadata": {},
     "output_type": "display_data"
    }
   ],
   "source": [
    "y_pred_tensor = lrmodel(tr_x)\n",
    "plt.scatter(x, y, color=\"r\")\n",
    "plt.scatter(x, y_pred_tensor.detach().numpy())"
   ]
  },
  {
   "cell_type": "markdown",
   "id": "a87f6ab6-c34a-4686-8188-b99296e83675",
   "metadata": {},
   "source": [
    "## Linear Regression Model with Multiple Features"
   ]
  },
  {
   "cell_type": "code",
   "execution_count": 387,
   "id": "fd354612-b6a0-4c6f-bec8-41a696aeb40a",
   "metadata": {},
   "outputs": [],
   "source": [
    "import torch, torch.nn as nn\n",
    "import torch.optim as optim\n",
    "\n",
    "from torch.utils.data import Dataset, DataLoader\n",
    "\n",
    "import numpy as np\n",
    "import matplotlib.pyplot as plt"
   ]
  },
  {
   "cell_type": "code",
   "execution_count": 381,
   "id": "10a401e0-829e-424f-bce7-bec6bee0ca06",
   "metadata": {},
   "outputs": [
    {
     "data": {
      "text/plain": [
       "tensor([[ 0.2750, -0.8413,  1.1792, -1.3003,  0.7700],\n",
       "        [-0.2579,  0.1233, -0.4524,  0.2164,  0.1519],\n",
       "        [-0.3188, -0.5673,  0.7089,  0.8317,  0.3022],\n",
       "        ...,\n",
       "        [ 0.4635,  1.0998, -0.0092,  0.5307, -0.0451],\n",
       "        [-2.0000, -2.1975,  0.8267, -1.8370, -0.6407],\n",
       "        [-1.5517,  0.4842, -0.1172, -0.8427, -0.4156]])"
      ]
     },
     "execution_count": 381,
     "metadata": {},
     "output_type": "execute_result"
    }
   ],
   "source": [
    "X = torch.randn(1000, 5)\n",
    "X"
   ]
  },
  {
   "cell_type": "markdown",
   "id": "b205f222-d192-402f-878d-c76df05d838e",
   "metadata": {},
   "source": [
    "$$ y = x_1 + 2x_2 + 3x_3 + 4x_4 + 5x_4$$"
   ]
  },
  {
   "cell_type": "code",
   "execution_count": 382,
   "id": "8b12957e-301b-4954-94be-7261158ff5a6",
   "metadata": {},
   "outputs": [],
   "source": [
    "Y = torch.mm(X, torch.Tensor([[1, 2, 3, 4, 5]]).t())"
   ]
  },
  {
   "cell_type": "code",
   "execution_count": 383,
   "id": "d39ebe06-a397-4d05-ae8d-2680cd7b7ce3",
   "metadata": {},
   "outputs": [
    {
     "data": {
      "text/plain": [
       "torch.Size([1000, 1])"
      ]
     },
     "execution_count": 383,
     "metadata": {},
     "output_type": "execute_result"
    }
   ],
   "source": [
    "Y.shape"
   ]
  },
  {
   "cell_type": "code",
   "execution_count": 386,
   "id": "b249fd3a-7849-45a2-a339-f2f58aa783ee",
   "metadata": {},
   "outputs": [
    {
     "data": {
      "text/plain": [
       "tensor([[ 0.7787],\n",
       "        [ 0.2569],\n",
       "        [ 5.5113],\n",
       "        [-2.4863],\n",
       "        [ 6.2197],\n",
       "        [12.4766],\n",
       "        [-1.8135],\n",
       "        [ 7.3462],\n",
       "        [ 3.2054],\n",
       "        [ 3.3302]])"
      ]
     },
     "execution_count": 386,
     "metadata": {},
     "output_type": "execute_result"
    }
   ],
   "source": [
    "Y[:10]"
   ]
  },
  {
   "cell_type": "code",
   "execution_count": 393,
   "id": "b240add4-6d6d-49ef-975a-8431909a0f12",
   "metadata": {},
   "outputs": [],
   "source": [
    "class MyDataset(Dataset):\n",
    "\n",
    "    def __init__(\n",
    "        self,\n",
    "        X, \n",
    "        Y\n",
    "    ):\n",
    "        super(MyDataset, self).__init__()\n",
    "        \n",
    "        self.x_data = X\n",
    "        self.y_data = Y\n",
    "\n",
    "    def __len__(self, ):\n",
    "        return self.x_data.shape[0]\n",
    "\n",
    "    def __getitem__(self, index: int):\n",
    "        return (\n",
    "            self.x_data[index],\n",
    "            self.y_data[index]\n",
    "        )"
   ]
  },
  {
   "cell_type": "code",
   "execution_count": 394,
   "id": "b8075348-2155-4f3c-8a0b-70bbcaeedc39",
   "metadata": {},
   "outputs": [],
   "source": [
    "dataset = MyDataset(X, Y)"
   ]
  },
  {
   "cell_type": "code",
   "execution_count": 397,
   "id": "a69acbf1-6b4d-4981-809f-240a725177da",
   "metadata": {},
   "outputs": [
    {
     "data": {
      "text/plain": [
       "(tensor([-2.1928, -1.4071, -0.0958, -0.7530, -1.1146]), tensor([-13.8795]))"
      ]
     },
     "execution_count": 397,
     "metadata": {},
     "output_type": "execute_result"
    }
   ],
   "source": [
    "dataset[10]"
   ]
  },
  {
   "cell_type": "code",
   "execution_count": 398,
   "id": "161b8578-ce7c-4970-b294-45db1b87baaf",
   "metadata": {},
   "outputs": [
    {
     "data": {
      "text/plain": [
       "(tensor([[-2.1928, -1.4071, -0.0958, -0.7530, -1.1146],\n",
       "         [ 0.5084,  0.6098, -0.5996, -0.3222, -0.2245],\n",
       "         [-1.7936,  1.9034,  0.7304,  0.9663,  1.0284],\n",
       "         [ 0.8638, -0.6194,  0.2621,  0.9317,  1.2757],\n",
       "         [ 1.0181, -2.2076,  0.3347, -0.3750,  0.3013],\n",
       "         [-0.5277,  1.6967,  1.5517,  1.2617,  1.8301],\n",
       "         [ 0.1543,  0.7561,  1.9804, -0.3148,  2.2812],\n",
       "         [-1.2163,  1.8347, -0.6461, -1.2144,  1.1052],\n",
       "         [ 0.3291,  0.4306,  0.3337,  1.0954,  0.7978]]),\n",
       " tensor([[-13.8795],\n",
       "         [ -2.4818],\n",
       "         [ 13.2120],\n",
       "         [ 10.5164],\n",
       "         [ -2.3866],\n",
       "         [ 21.7182],\n",
       "         [ 17.7545],\n",
       "         [  1.1834],\n",
       "         [ 10.5618]]))"
      ]
     },
     "execution_count": 398,
     "metadata": {},
     "output_type": "execute_result"
    }
   ],
   "source": [
    "dataset[10:19]"
   ]
  },
  {
   "cell_type": "code",
   "execution_count": 399,
   "id": "d1470a8a-047f-4485-86cd-7315f87081b6",
   "metadata": {},
   "outputs": [],
   "source": [
    "loader = DataLoader(\n",
    "    dataset= dataset,\n",
    "    shuffle= True,\n",
    "    batch_size= 32\n",
    ")"
   ]
  },
  {
   "cell_type": "code",
   "execution_count": 411,
   "id": "3dd6714f-0c65-4b6a-8f42-f3e74ccadbb7",
   "metadata": {},
   "outputs": [],
   "source": [
    "inputs, targets = next(iter(loader))"
   ]
  },
  {
   "cell_type": "code",
   "execution_count": 405,
   "id": "2b91fbe8-de8d-462a-a2e4-b099a9af89c1",
   "metadata": {},
   "outputs": [
    {
     "data": {
      "text/plain": [
       "torch.Size([32, 5])"
      ]
     },
     "execution_count": 405,
     "metadata": {},
     "output_type": "execute_result"
    }
   ],
   "source": [
    "inputs.shape"
   ]
  },
  {
   "cell_type": "code",
   "execution_count": 406,
   "id": "e806ecbe-105d-4ee4-b125-71d3367cb96c",
   "metadata": {},
   "outputs": [
    {
     "data": {
      "text/plain": [
       "torch.Size([32, 1])"
      ]
     },
     "execution_count": 406,
     "metadata": {},
     "output_type": "execute_result"
    }
   ],
   "source": [
    "targets.shape"
   ]
  },
  {
   "cell_type": "code",
   "execution_count": 444,
   "id": "9371f255-f27b-4322-99b2-e5299068196d",
   "metadata": {},
   "outputs": [],
   "source": [
    "lrMfModel = nn.Sequential(\n",
    "    nn.Linear(5, 10),\n",
    "    nn.ReLU(),\n",
    "    nn.Linear(10, 1)\n",
    ")"
   ]
  },
  {
   "cell_type": "code",
   "execution_count": 445,
   "id": "84988d2d-c673-4b88-ab3a-3310d05b5971",
   "metadata": {},
   "outputs": [
    {
     "data": {
      "text/plain": [
       "torch.Size([32, 1])"
      ]
     },
     "execution_count": 445,
     "metadata": {},
     "output_type": "execute_result"
    }
   ],
   "source": [
    "lrMfModel(inputs).shape"
   ]
  },
  {
   "cell_type": "code",
   "execution_count": 446,
   "id": "49bb0dd7-174e-4513-a0df-271d2c3b7df5",
   "metadata": {},
   "outputs": [],
   "source": [
    "mse = nn.MSELoss()"
   ]
  },
  {
   "cell_type": "code",
   "execution_count": 447,
   "id": "da3bbf2d-b555-4724-84ce-387bd875104b",
   "metadata": {},
   "outputs": [],
   "source": [
    "opt = optim.Adam(lrMfModel.parameters(), lr=0.01)"
   ]
  },
  {
   "cell_type": "code",
   "execution_count": 448,
   "id": "15f0a1b3-38f5-489a-9e93-65778ceee1a3",
   "metadata": {},
   "outputs": [],
   "source": [
    "def train():\n",
    "    for xv, yv  in zip(tr_x, tr_y):\n",
    "    \n",
    "        opt.zero_grad()\n",
    "    \n",
    "        y_pred = lrmodel(xv)\n",
    "    \n",
    "        loss = mse(y_pred, yv)\n",
    "    \n",
    "        loss.backward()\n",
    "    \n",
    "        opt.step()"
   ]
  },
  {
   "cell_type": "code",
   "execution_count": 449,
   "id": "40d5b5d5-34db-4395-80b0-d06d46580ae5",
   "metadata": {},
   "outputs": [],
   "source": [
    "def train_with_dataloader(\n",
    "    model,\n",
    "    optimizer, \n",
    "    loader,\n",
    "):\n",
    "    total_loss = 0\n",
    "    \n",
    "    for xv, yv in loader:\n",
    "\n",
    "        optimizer.zero_grad()\n",
    "\n",
    "        y_pred = model(xv)\n",
    "\n",
    "        loss = mse(y_pred, yv)\n",
    "\n",
    "        total_loss += loss.item()\n",
    "\n",
    "        loss.backward()\n",
    "\n",
    "        optimizer.step()\n",
    "\n",
    "    total_loss = total_loss / len(dataset)\n",
    "\n",
    "    return total_loss    "
   ]
  },
  {
   "cell_type": "code",
   "execution_count": 450,
   "id": "e630ee77-8cba-4e8a-8b31-bf73be6f5ab6",
   "metadata": {},
   "outputs": [],
   "source": [
    "loss_history = []"
   ]
  },
  {
   "cell_type": "code",
   "execution_count": 451,
   "id": "2241a4b4-93c6-4f11-8de4-5cae59ab9a61",
   "metadata": {},
   "outputs": [],
   "source": [
    "epochs = 20"
   ]
  },
  {
   "cell_type": "code",
   "execution_count": 452,
   "id": "006b9de8-6ee1-4080-95b1-635482069552",
   "metadata": {},
   "outputs": [
    {
     "name": "stdout",
     "output_type": "stream",
     "text": [
      "Epoch: 0/20 | loss: 1.62310 |\n",
      "Epoch: 1/20 | loss: 0.96156 |\n",
      "Epoch: 2/20 | loss: 0.15361 |\n",
      "Epoch: 3/20 | loss: 0.03134 |\n",
      "Epoch: 4/20 | loss: 0.02215 |\n",
      "Epoch: 5/20 | loss: 0.01798 |\n",
      "Epoch: 6/20 | loss: 0.01510 |\n",
      "Epoch: 7/20 | loss: 0.01299 |\n",
      "Epoch: 8/20 | loss: 0.01018 |\n",
      "Epoch: 9/20 | loss: 0.00782 |\n",
      "Epoch: 10/20 | loss: 0.00607 |\n",
      "Epoch: 11/20 | loss: 0.00451 |\n",
      "Epoch: 12/20 | loss: 0.00343 |\n",
      "Epoch: 13/20 | loss: 0.00255 |\n",
      "Epoch: 14/20 | loss: 0.00191 |\n",
      "Epoch: 15/20 | loss: 0.00154 |\n",
      "Epoch: 16/20 | loss: 0.00129 |\n",
      "Epoch: 17/20 | loss: 0.00104 |\n",
      "Epoch: 18/20 | loss: 0.00089 |\n",
      "Epoch: 19/20 | loss: 0.00078 |\n"
     ]
    }
   ],
   "source": [
    "for epoch in range(epochs):\n",
    "\n",
    "    total_loss = train_with_dataloader(\n",
    "        model= lrMfModel,\n",
    "        optimizer= opt,\n",
    "        loader= loader\n",
    "    )\n",
    "\n",
    "    loss_history.append(total_loss)\n",
    "\n",
    "    # if epoch%100==0:\n",
    "    print(f\"Epoch: {epoch}/{epochs} | loss: {total_loss:.5f} |\")"
   ]
  },
  {
   "cell_type": "code",
   "execution_count": 454,
   "id": "824bc9b4-dbe7-489a-9cb7-b52d23e0f817",
   "metadata": {},
   "outputs": [],
   "source": [
    "loss_history_np = np.array(loss_history)"
   ]
  },
  {
   "cell_type": "code",
   "execution_count": 455,
   "id": "dd8f1211-5490-436f-b952-1aa296eee76b",
   "metadata": {},
   "outputs": [
    {
     "data": {
      "text/plain": [
       "[<matplotlib.lines.Line2D at 0x7b47554e0690>]"
      ]
     },
     "execution_count": 455,
     "metadata": {},
     "output_type": "execute_result"
    },
    {
     "data": {
      "image/png": "[encoded data removed]",
      "text/plain": [
       "<Figure size 640x480 with 1 Axes>"
      ]
     },
     "metadata": {},
     "output_type": "display_data"
    }
   ],
   "source": [
    "plt.plot(loss_history_np)"
   ]
  }
 ],
 "metadata": {
  "kernelspec": {
   "display_name": "Python 3 (ipykernel)",
   "language": "python",
   "name": "python3"
  },
  "language_info": {
   "codemirror_mode": {
    "name": "ipython",
    "version": 3
   },
   "file_extension": ".py",
   "mimetype": "text/x-python",
   "name": "python",
   "nbconvert_exporter": "python",
   "pygments_lexer": "ipython3",
   "version": "3.11.6"
  }
 },
 "nbformat": 4,
 "nbformat_minor": 5
}
