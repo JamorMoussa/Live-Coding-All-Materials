{
 "cells": [
  {
   "cell_type": "markdown",
   "id": "0ec318fb-b569-4058-a183-45001acf5eab",
   "metadata": {},
   "source": [
    "# Live Coding 1 🎥\n",
    "\n",
    "## Deep Learning Basics with PyTorch"
   ]
  },
  {
   "cell_type": "markdown",
   "id": "0cf2ef59-fd21-418e-b35e-dca11dc5026e",
   "metadata": {},
   "source": [
    "What we're going to cover:\n",
    "\n",
    "- [torch.Tensor](https://pytorch.org/docs/stable/tensors.html): High-dimensional arrays, similar to NumPy arrays.\n",
    " \n",
    "- [nn Modules](https://pytorch.org/docs/stable/nn.html):\n",
    "  - [nn.Module](https://pytorch.org/docs/stable/generated/torch.nn.Module.html): Base class for all neural network modules.\n",
    "  - [nn.Linear](https://pytorch.org/docs/stable/generated/torch.nn.Linear.html): Applies a linear transformation to the incoming data.\n",
    "  - [nn.Conv2d](https://pytorch.org/docs/stable/generated/torch.nn.Conv2d.html): Applies a 2D convolution over an input signal.\n",
    "\n",
    "- [Activation Functions](https://pytorch.org/docs/stable/nn.html#non-linear-activations):\n",
    "  - [nn.ReLU](https://pytorch.org/docs/stable/generated/torch.nn.ReLU.html): Rectified Linear Unit.\n",
    "  - [nn.Sigmoid](https://pytorch.org/docs/stable/generated/torch.nn.Sigmoid.html): Sigmoid function.\n",
    "  - [nn.Tanh](https://pytorch.org/docs/stable/generated/torch.nn.Tanh.html): Hyperbolic tangent function.\n",
    "\n",
    "- [Optim](https://pytorch.org/docs/stable/optim.html): Optimization algorithms.\n",
    "  - [torch.optim.SGD](https://pytorch.org/docs/stable/optim.html#torch.optim.SGD): Stochastic Gradient Descent.\n",
    "  - [torch.optim.Adam](https://pytorch.org/docs/stable/optim.html#torch.optim.Adam): Adam algorithm.\n",
    "  - [Loss Functions](https://pytorch.org/docs/stable/nn.html#loss-functions):\n",
    "  - [nn.CrossEntropyLoss](https://pytorch.org/docs/stable/generated/torch.nn.CrossEntropyLoss.html): Combines `nn.LogSoftmax` and `nn.NLLLoss`.\n",
    "\n",
    "  - [nn.MSELoss](https://pytorch.org/docs/stable/generated/torch.nn.MSELoss.html): Mean squared error loss.\n",
    "  - [nn.BCELoss](https://pytorch.org/docs/stable/generated/torch.nn.BCELoss.html): Binary cross entropy loss.\n",
    "\n",
    "- [Data Loading and Processing](https://pytorch.org/docs/stable/data.html):\n",
    "  - [torch.utils.data.DataLoader](https://pytorch.org/docs/stable/data.html#torch.utils.data.DataLoader): Data loader.\n",
    "  - [torchvision.datasets](https://pytorch.org/vision/stable/datasets.html): Standard datasets.\n",
    "  - [torchvision.transforms](https://pytorch.org/vision/stable/transforms.html): Common image transformations.\n",
    "\n",
    "- [Training Loop](https://pytorch.org/tutorials/beginner/basics/optimization_tutorial.html): Putting it all together to train a model.\n",
    "- [Saving and Loading Models](https://pytorch.org/tutorials/beginner/saving_loading_models.html): Persisting and restoring models."
   ]
  }
 ],
 "metadata": {
  "kernelspec": {
   "display_name": "Python 3 (ipykernel)",
   "language": "python",
   "name": "python3"
  },
  "language_info": {
   "codemirror_mode": {
    "name": "ipython",
    "version": 3
   },
   "file_extension": ".py",
   "mimetype": "text/x-python",
   "name": "python",
   "nbconvert_exporter": "python",
   "pygments_lexer": "ipython3",
   "version": "3.11.6"
  }
 },
 "nbformat": 4,
 "nbformat_minor": 5
}
