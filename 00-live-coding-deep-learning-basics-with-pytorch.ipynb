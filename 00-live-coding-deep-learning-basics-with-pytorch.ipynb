{
 "cells": [
  {
   "cell_type": "markdown",
   "id": "0ec318fb-b569-4058-a183-45001acf5eab",
   "metadata": {},
   "source": [
    "# Live Coding 1 🎥\n",
    "\n",
    "## Deep Learning Basics with PyTorch"
   ]
  },
  {
   "cell_type": "markdown",
   "id": "0cf2ef59-fd21-418e-b35e-dca11dc5026e",
   "metadata": {},
   "source": [
    "What we're going to cover:\n",
    "\n",
    "- [torch.Tensor](https://pytorch.org/docs/stable/tensors.html): High-dimensional arrays, similar to NumPy arrays.\n",
    " \n",
    "- [nn Modules](https://pytorch.org/docs/stable/nn.html):\n",
    "  - [nn.Module](https://pytorch.org/docs/stable/generated/torch.nn.Module.html): Base class for all neural network modules.\n",
    "  - [nn.Linear](https://pytorch.org/docs/stable/generated/torch.nn.Linear.html): Applies a linear transformation to the incoming data.\n",
    "  - [nn.Conv2d](https://pytorch.org/docs/stable/generated/torch.nn.Conv2d.html): Applies a 2D convolution over an input signal.\n",
    "\n",
    "- [Activation Functions](https://pytorch.org/docs/stable/nn.html#non-linear-activations):\n",
    "  - [nn.ReLU](https://pytorch.org/docs/stable/generated/torch.nn.ReLU.html): Rectified Linear Unit.\n",
    "  - [nn.Sigmoid](https://pytorch.org/docs/stable/generated/torch.nn.Sigmoid.html): Sigmoid function.\n",
    "  - [nn.Tanh](https://pytorch.org/docs/stable/generated/torch.nn.Tanh.html): Hyperbolic tangent function.\n",
    "\n",
    "- [Optim](https://pytorch.org/docs/stable/optim.html): Optimization algorithms.\n",
    "  - [torch.optim.SGD](https://pytorch.org/docs/stable/optim.html#torch.optim.SGD): Stochastic Gradient Descent.\n",
    "  - [torch.optim.Adam](https://pytorch.org/docs/stable/optim.html#torch.optim.Adam): Adam algorithm.\n",
    "\n",
    "- [Loss Functions](https://pytorch.org/docs/stable/nn.html#loss-functions):\n",
    "  - [nn.CrossEntropyLoss](https://pytorch.org/docs/stable/generated/torch.nn.CrossEntropyLoss.html): Combines `nn.LogSoftmax` and `nn.NLLLoss`.\n",
    "\n",
    "  - [nn.MSELoss](https://pytorch.org/docs/stable/generated/torch.nn.MSELoss.html): Mean squared error loss.\n",
    "  - [nn.BCELoss](https://pytorch.org/docs/stable/generated/torch.nn.BCELoss.html): Binary cross entropy loss.\n",
    "\n",
    "- [Data Loading and Processing](https://pytorch.org/docs/stable/data.html):\n",
    "  - [torch.utils.data.DataLoader](https://pytorch.org/docs/stable/data.html#torch.utils.data.DataLoader): Data loader.\n",
    "  - [torchvision.datasets](https://pytorch.org/vision/stable/datasets.html): Standard datasets.\n",
    "  - [torchvision.transforms](https://pytorch.org/vision/stable/transforms.html): Common image transformations.\n",
    "\n",
    "- [Training Loop](https://pytorch.org/tutorials/beginner/basics/optimization_tutorial.html): Putting it all together to train a model.\n",
    "- [Saving and Loading Models](https://pytorch.org/tutorials/beginner/saving_loading_models.html): Persisting and restoring models."
   ]
  },
  {
   "cell_type": "code",
   "execution_count": 65,
   "id": "aafc9c3c-7452-48b6-b3d9-0f7e0a3ffef7",
   "metadata": {},
   "outputs": [],
   "source": [
    "import torch"
   ]
  },
  {
   "cell_type": "markdown",
   "id": "3c21919d-c0a6-4c98-8c27-0fb64501c92c",
   "metadata": {},
   "source": [
    "## Tensor"
   ]
  },
  {
   "cell_type": "code",
   "execution_count": 66,
   "id": "b756418a-c71a-44c4-ad12-f71caed24c5c",
   "metadata": {},
   "outputs": [
    {
     "data": {
      "text/plain": [
       "tensor(1)"
      ]
     },
     "execution_count": 66,
     "metadata": {},
     "output_type": "execute_result"
    }
   ],
   "source": [
    "s = torch.tensor(1)\n",
    "s"
   ]
  },
  {
   "cell_type": "code",
   "execution_count": 67,
   "id": "49be3063-97d5-49c2-b639-b7cc0805e66b",
   "metadata": {},
   "outputs": [
    {
     "data": {
      "text/plain": [
       "0"
      ]
     },
     "execution_count": 67,
     "metadata": {},
     "output_type": "execute_result"
    }
   ],
   "source": [
    "s.ndim"
   ]
  },
  {
   "cell_type": "code",
   "execution_count": 68,
   "id": "6e2d167d-73a9-4ebe-aca7-17c520f74b55",
   "metadata": {},
   "outputs": [
    {
     "data": {
      "text/plain": [
       "torch.Size([])"
      ]
     },
     "execution_count": 68,
     "metadata": {},
     "output_type": "execute_result"
    }
   ],
   "source": [
    "s.shape"
   ]
  },
  {
   "cell_type": "code",
   "execution_count": 69,
   "id": "5039e676-7e59-4993-b1d8-3940183af10f",
   "metadata": {},
   "outputs": [
    {
     "data": {
      "text/plain": [
       "tensor([1., 2., 4.])"
      ]
     },
     "execution_count": 69,
     "metadata": {},
     "output_type": "execute_result"
    }
   ],
   "source": [
    "vec = torch.Tensor([1, 2, 4])\n",
    "vec"
   ]
  },
  {
   "cell_type": "code",
   "execution_count": 70,
   "id": "9ba1a731-fc1c-4002-ab27-2d2e0b454136",
   "metadata": {},
   "outputs": [
    {
     "data": {
      "text/plain": [
       "1"
      ]
     },
     "execution_count": 70,
     "metadata": {},
     "output_type": "execute_result"
    }
   ],
   "source": [
    "vec.ndim"
   ]
  },
  {
   "cell_type": "code",
   "execution_count": 71,
   "id": "3ec3dc0f-c1a3-4e02-855c-02ca69d0cd47",
   "metadata": {},
   "outputs": [
    {
     "data": {
      "text/plain": [
       "torch.Size([3])"
      ]
     },
     "execution_count": 71,
     "metadata": {},
     "output_type": "execute_result"
    }
   ],
   "source": [
    "vec.shape"
   ]
  },
  {
   "cell_type": "code",
   "execution_count": 72,
   "id": "dc30b644-abe8-47c0-a2e6-d0f68b24fe7d",
   "metadata": {},
   "outputs": [
    {
     "data": {
      "text/plain": [
       "tensor([[1., 2., 3.],\n",
       "        [3., 4., 4.]])"
      ]
     },
     "execution_count": 72,
     "metadata": {},
     "output_type": "execute_result"
    }
   ],
   "source": [
    "matrix = torch.Tensor([[1, 2, 3],\n",
    "                       [3, 4, 4]])\n",
    "matrix"
   ]
  },
  {
   "cell_type": "code",
   "execution_count": 73,
   "id": "0b180a5b-7a86-4e87-b6b9-97043a3abde0",
   "metadata": {},
   "outputs": [
    {
     "data": {
      "text/plain": [
       "torch.Size([2, 3])"
      ]
     },
     "execution_count": 73,
     "metadata": {},
     "output_type": "execute_result"
    }
   ],
   "source": [
    "matrix.shape"
   ]
  },
  {
   "cell_type": "code",
   "execution_count": 74,
   "id": "4636a983-f080-4490-83fe-4c043f8ecee0",
   "metadata": {},
   "outputs": [
    {
     "data": {
      "text/plain": [
       "2"
      ]
     },
     "execution_count": 74,
     "metadata": {},
     "output_type": "execute_result"
    }
   ],
   "source": [
    "matrix.ndim"
   ]
  },
  {
   "cell_type": "code",
   "execution_count": 75,
   "id": "b22e0989-aac9-498a-89f7-4e1be8f31cc1",
   "metadata": {},
   "outputs": [
    {
     "data": {
      "text/plain": [
       "tensor([[[ 1.,  2.],\n",
       "         [ 3.,  4.],\n",
       "         [ 5.,  6.]],\n",
       "\n",
       "        [[ 7.,  8.],\n",
       "         [ 9., 10.],\n",
       "         [11., 12.]]])"
      ]
     },
     "execution_count": 75,
     "metadata": {},
     "output_type": "execute_result"
    }
   ],
   "source": [
    "tensor = torch.Tensor([1, 2, 3, 4, 5, 6, 7, 8, 9, 10, 11, 12]).reshape(2, 3, 2)\n",
    "tensor"
   ]
  },
  {
   "cell_type": "code",
   "execution_count": 76,
   "id": "a0989516-87f2-4279-b32e-cc792400e249",
   "metadata": {},
   "outputs": [
    {
     "data": {
      "text/plain": [
       "3"
      ]
     },
     "execution_count": 76,
     "metadata": {},
     "output_type": "execute_result"
    }
   ],
   "source": [
    "tensor.ndim"
   ]
  },
  {
   "cell_type": "code",
   "execution_count": 77,
   "id": "7219d637-3384-45f9-82cc-b6a25b246e95",
   "metadata": {},
   "outputs": [
    {
     "data": {
      "text/plain": [
       "torch.Size([2, 3, 2])"
      ]
     },
     "execution_count": 77,
     "metadata": {},
     "output_type": "execute_result"
    }
   ],
   "source": [
    "tensor.shape"
   ]
  },
  {
   "cell_type": "code",
   "execution_count": 78,
   "id": "a4871abb-84cf-40e6-871b-150899c4059b",
   "metadata": {},
   "outputs": [
    {
     "data": {
      "text/plain": [
       "tensor(10.)"
      ]
     },
     "execution_count": 78,
     "metadata": {},
     "output_type": "execute_result"
    }
   ],
   "source": [
    "tensor[1][1][1]"
   ]
  },
  {
   "cell_type": "markdown",
   "id": "fbd632dc-d5a4-4ee6-8f64-079fee241d7a",
   "metadata": {},
   "source": [
    "## Tensor Operations "
   ]
  },
  {
   "cell_type": "code",
   "execution_count": 79,
   "id": "a1978d2d-ed24-4f59-9bd4-d42e64127c37",
   "metadata": {},
   "outputs": [],
   "source": [
    "a = torch.Tensor([1, 2, 3])\n",
    "b = torch.Tensor([3, -2, 5])"
   ]
  },
  {
   "cell_type": "code",
   "execution_count": 80,
   "id": "58583747-c491-44e1-98c2-875e0b6425b6",
   "metadata": {},
   "outputs": [
    {
     "data": {
      "text/plain": [
       "tensor([4., 0., 8.])"
      ]
     },
     "execution_count": 80,
     "metadata": {},
     "output_type": "execute_result"
    }
   ],
   "source": [
    "a + b "
   ]
  },
  {
   "cell_type": "code",
   "execution_count": 81,
   "id": "6e81e144-3aa2-4bc0-ad75-d904e8d70bb2",
   "metadata": {},
   "outputs": [
    {
     "data": {
      "text/plain": [
       "tensor([-2.,  4., -2.])"
      ]
     },
     "execution_count": 81,
     "metadata": {},
     "output_type": "execute_result"
    }
   ],
   "source": [
    "a - b "
   ]
  },
  {
   "cell_type": "code",
   "execution_count": 82,
   "id": "276fb82f-d978-4b2e-a93e-c13cc05ff78b",
   "metadata": {},
   "outputs": [
    {
     "data": {
      "text/plain": [
       "tensor([ 3., -4., 15.])"
      ]
     },
     "execution_count": 82,
     "metadata": {},
     "output_type": "execute_result"
    }
   ],
   "source": [
    "a * b # element wise"
   ]
  },
  {
   "cell_type": "code",
   "execution_count": 83,
   "id": "2293f7da-3590-4b41-8ae4-360d95667f26",
   "metadata": {},
   "outputs": [
    {
     "data": {
      "text/plain": [
       "tensor([ 0.3333, -1.0000,  0.6000])"
      ]
     },
     "execution_count": 83,
     "metadata": {},
     "output_type": "execute_result"
    }
   ],
   "source": [
    "a / b"
   ]
  },
  {
   "cell_type": "code",
   "execution_count": 84,
   "id": "61b07f2d-6963-48d0-ac8c-01b826ed05bb",
   "metadata": {},
   "outputs": [
    {
     "data": {
      "text/plain": [
       "tensor(14.)"
      ]
     },
     "execution_count": 84,
     "metadata": {},
     "output_type": "execute_result"
    }
   ],
   "source": [
    "torch.dot(a, b)"
   ]
  },
  {
   "cell_type": "code",
   "execution_count": 85,
   "id": "b064c32b-251e-4729-abde-0155acbfeb7a",
   "metadata": {},
   "outputs": [],
   "source": [
    "m1 = torch.Tensor([[1, 2, 3],\n",
    "                   [3, 4, 4]])\n",
    "\n",
    "m2 = torch.Tensor([[1, 2, 3],\n",
    "                  [3, 4, 4]])"
   ]
  },
  {
   "cell_type": "code",
   "execution_count": 86,
   "id": "226bde28-81ba-4c0d-ba5a-9a8a0b45c039",
   "metadata": {},
   "outputs": [
    {
     "data": {
      "text/plain": [
       "tensor([[1., 2., 3.],\n",
       "        [3., 4., 4.]])"
      ]
     },
     "execution_count": 86,
     "metadata": {},
     "output_type": "execute_result"
    }
   ],
   "source": [
    "m1"
   ]
  },
  {
   "cell_type": "code",
   "execution_count": 87,
   "id": "ae44ea05-3c26-4e4b-a420-fed1a8537450",
   "metadata": {},
   "outputs": [
    {
     "data": {
      "text/plain": [
       "tensor([[1., 3.],\n",
       "        [2., 4.],\n",
       "        [3., 4.]])"
      ]
     },
     "execution_count": 87,
     "metadata": {},
     "output_type": "execute_result"
    }
   ],
   "source": [
    "m1.t()"
   ]
  },
  {
   "cell_type": "code",
   "execution_count": 88,
   "id": "58e59c5e-980f-4110-b2b3-c7a36e04f11f",
   "metadata": {},
   "outputs": [
    {
     "data": {
      "text/plain": [
       "torch.Size([2, 3])"
      ]
     },
     "execution_count": 88,
     "metadata": {},
     "output_type": "execute_result"
    }
   ],
   "source": [
    "m1.shape"
   ]
  },
  {
   "cell_type": "code",
   "execution_count": 89,
   "id": "ce3db3fd-4bc2-42a8-9968-0c1eb7fb2fb1",
   "metadata": {},
   "outputs": [
    {
     "data": {
      "text/plain": [
       "torch.Size([3, 2])"
      ]
     },
     "execution_count": 89,
     "metadata": {},
     "output_type": "execute_result"
    }
   ],
   "source": [
    "m1.t().shape"
   ]
  },
  {
   "cell_type": "code",
   "execution_count": 90,
   "id": "0614386c-afa3-4a5f-b498-1fd0973d3b31",
   "metadata": {},
   "outputs": [
    {
     "data": {
      "text/plain": [
       "tensor([[14., 23.],\n",
       "        [23., 41.]])"
      ]
     },
     "execution_count": 90,
     "metadata": {},
     "output_type": "execute_result"
    }
   ],
   "source": [
    "torch.mm(m1, m2.t())"
   ]
  },
  {
   "cell_type": "code",
   "execution_count": 91,
   "id": "570c320b-bed6-42c3-94be-c30a187f6e2a",
   "metadata": {},
   "outputs": [
    {
     "data": {
      "text/plain": [
       "tensor([[14., 23.],\n",
       "        [23., 41.]])"
      ]
     },
     "execution_count": 91,
     "metadata": {},
     "output_type": "execute_result"
    }
   ],
   "source": [
    "m1 @ m2.t()"
   ]
  },
  {
   "cell_type": "code",
   "execution_count": 92,
   "id": "28c62944-04dc-40ff-9b17-8ed0ea858aac",
   "metadata": {},
   "outputs": [
    {
     "data": {
      "text/plain": [
       "tensor([[[ 1.,  2.],\n",
       "         [ 3.,  4.],\n",
       "         [ 5.,  6.]],\n",
       "\n",
       "        [[ 7.,  8.],\n",
       "         [ 9., 10.],\n",
       "         [11., 12.]]])"
      ]
     },
     "execution_count": 92,
     "metadata": {},
     "output_type": "execute_result"
    }
   ],
   "source": [
    "torch.Tensor([1, 2, 3, 4, 5, 6, 7, 8, 9, 10, 11, 12]).reshape(2, 3, 2)\n",
    "tensor"
   ]
  },
  {
   "cell_type": "code",
   "execution_count": 93,
   "id": "3470184e-0bb6-4ccf-942e-b02467abd3e7",
   "metadata": {},
   "outputs": [
    {
     "data": {
      "text/plain": [
       "torch.Size([2, 3, 2])"
      ]
     },
     "execution_count": 93,
     "metadata": {},
     "output_type": "execute_result"
    }
   ],
   "source": [
    "tensor.shape"
   ]
  },
  {
   "cell_type": "code",
   "execution_count": 94,
   "id": "5953aad9-d482-4d59-b6eb-ada605a10100",
   "metadata": {},
   "outputs": [
    {
     "data": {
      "text/plain": [
       "torch.Size([2, 3])"
      ]
     },
     "execution_count": 94,
     "metadata": {},
     "output_type": "execute_result"
    }
   ],
   "source": [
    "m1.shape"
   ]
  },
  {
   "cell_type": "code",
   "execution_count": 95,
   "id": "be879a29-0996-430c-8395-68134547ae89",
   "metadata": {},
   "outputs": [
    {
     "data": {
      "text/plain": [
       "tensor([[[ 7., 10., 11.],\n",
       "         [15., 22., 25.],\n",
       "         [23., 34., 39.]],\n",
       "\n",
       "        [[31., 46., 53.],\n",
       "         [39., 58., 67.],\n",
       "         [47., 70., 81.]]])"
      ]
     },
     "execution_count": 95,
     "metadata": {},
     "output_type": "execute_result"
    }
   ],
   "source": [
    "res = tensor @ m1\n",
    "res"
   ]
  },
  {
   "cell_type": "code",
   "execution_count": 96,
   "id": "41b90640-09d3-4d54-8aa7-1cca6b5b0fbe",
   "metadata": {},
   "outputs": [
    {
     "data": {
      "text/plain": [
       "torch.Size([2, 3, 3])"
      ]
     },
     "execution_count": 96,
     "metadata": {},
     "output_type": "execute_result"
    }
   ],
   "source": [
    "res.shape"
   ]
  },
  {
   "cell_type": "markdown",
   "id": "31e9970b-0b1a-4fc1-94f1-d48cedcb6464",
   "metadata": {},
   "source": [
    "## Other Operations"
   ]
  },
  {
   "cell_type": "code",
   "execution_count": 99,
   "id": "e29065be-5470-451c-aaff-1696cb42ce4b",
   "metadata": {},
   "outputs": [
    {
     "data": {
      "text/plain": [
       "tensor([ 1.,  2.,  3.,  4.,  5.,  6.,  7.,  8.,  9., 10., 11., 12.])"
      ]
     },
     "execution_count": 99,
     "metadata": {},
     "output_type": "execute_result"
    }
   ],
   "source": [
    "tensor = torch.Tensor([1, 2, 3, 4, 5, 6, 7, 8, 9, 10, 11, 12])\n",
    "tensor"
   ]
  },
  {
   "cell_type": "code",
   "execution_count": 100,
   "id": "ec33ff24-a729-4484-8110-f0f7b402dff1",
   "metadata": {},
   "outputs": [
    {
     "data": {
      "text/plain": [
       "torch.Size([12])"
      ]
     },
     "execution_count": 100,
     "metadata": {},
     "output_type": "execute_result"
    }
   ],
   "source": [
    "tensor.shape"
   ]
  },
  {
   "cell_type": "code",
   "execution_count": 102,
   "id": "a2ebc804-697b-47f3-a1f9-9d95f1ac53d8",
   "metadata": {},
   "outputs": [
    {
     "data": {
      "text/plain": [
       "tensor([[ 1.,  2.,  3.,  4.],\n",
       "        [ 5.,  6.,  7.,  8.],\n",
       "        [ 9., 10., 11., 12.]])"
      ]
     },
     "execution_count": 102,
     "metadata": {},
     "output_type": "execute_result"
    }
   ],
   "source": [
    "tensor.reshape(3, 4) # 3 x 4 = 12 "
   ]
  },
  {
   "cell_type": "code",
   "execution_count": 104,
   "id": "f18e71b5-faea-4a3e-b0bd-d50fbd9f1240",
   "metadata": {},
   "outputs": [
    {
     "data": {
      "text/plain": [
       "tensor([[[ 1.,  2.],\n",
       "         [ 3.,  4.]],\n",
       "\n",
       "        [[ 5.,  6.],\n",
       "         [ 7.,  8.]],\n",
       "\n",
       "        [[ 9., 10.],\n",
       "         [11., 12.]]])"
      ]
     },
     "execution_count": 104,
     "metadata": {},
     "output_type": "execute_result"
    }
   ],
   "source": [
    "tensor.reshape(3, 2, 2)"
   ]
  },
  {
   "cell_type": "code",
   "execution_count": null,
   "id": "fecf0abe-1ec0-433d-a329-4a4aa2931a94",
   "metadata": {},
   "outputs": [],
   "source": []
  }
 ],
 "metadata": {
  "kernelspec": {
   "display_name": "Python 3 (ipykernel)",
   "language": "python",
   "name": "python3"
  },
  "language_info": {
   "codemirror_mode": {
    "name": "ipython",
    "version": 3
   },
   "file_extension": ".py",
   "mimetype": "text/x-python",
   "name": "python",
   "nbconvert_exporter": "python",
   "pygments_lexer": "ipython3",
   "version": "3.11.6"
  }
 },
 "nbformat": 4,
 "nbformat_minor": 5
}
