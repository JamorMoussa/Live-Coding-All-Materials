{
 "cells": [
  {
   "cell_type": "markdown",
   "id": "0ec318fb-b569-4058-a183-45001acf5eab",
   "metadata": {},
   "source": [
    "# Live Coding 1 🎥\n",
    "\n",
    "## Deep Learning Basics with PyTorch"
   ]
  },
  {
   "cell_type": "code",
   "execution_count": null,
   "id": "4ab23b2f-3109-49f5-9549-fed5060367c1",
   "metadata": {},
   "outputs": [],
   "source": []
  }
 ],
 "metadata": {
  "kernelspec": {
   "display_name": "Python 3 (ipykernel)",
   "language": "python",
   "name": "python3"
  },
  "language_info": {
   "codemirror_mode": {
    "name": "ipython",
    "version": 3
   },
   "file_extension": ".py",
   "mimetype": "text/x-python",
   "name": "python",
   "nbconvert_exporter": "python",
   "pygments_lexer": "ipython3",
   "version": "3.11.6"
  }
 },
 "nbformat": 4,
 "nbformat_minor": 5
}
