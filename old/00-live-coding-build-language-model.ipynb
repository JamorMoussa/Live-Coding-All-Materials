{
 "cells": [
  {
   "cell_type": "code",
   "execution_count": 229,
   "id": "d90d3c2c-ce06-4ea1-b1db-b550bbd3a9d4",
   "metadata": {},
   "outputs": [],
   "source": [
    "import torch, torch.nn as nn\n",
    "import torch.optim as optim\n",
    "from torch.utils.data import DataLoader, Dataset\n",
    "import torch.nn.functional  as F\n",
    "\n",
    "import numpy as np\n",
    "\n",
    "import time"
   ]
  },
  {
   "cell_type": "markdown",
   "id": "fa3268c0-0664-44d8-b5cd-46ec42d1519a",
   "metadata": {},
   "source": [
    "## 01. Load Python Code File - Build the vocabulary."
   ]
  },
  {
   "cell_type": "code",
   "execution_count": 1478,
   "id": "8e8b3691-f500-4df7-9a81-8a814b43d02e",
   "metadata": {},
   "outputs": [],
   "source": [
    "dataset_path = \"./datasets/python.py\""
   ]
  },
  {
   "cell_type": "code",
   "execution_count": 1479,
   "id": "126bde90-870c-4ff4-bbae-4fbcb6bd7034",
   "metadata": {},
   "outputs": [],
   "source": [
    "with open(dataset_path, \"r\") as f:\n",
    "    code = f.read().lower()\n",
    "    # to_rm = \"#'()+,-./:;?[]!&\"\n",
    "    for char in to_rm: code = code.replace(char, \"\")"
   ]
  },
  {
   "cell_type": "code",
   "execution_count": 1480,
   "id": "9d4f2093-7af8-479f-87e6-c828d99c90f4",
   "metadata": {},
   "outputs": [
    {
     "data": {
      "text/plain": [
       "1582"
      ]
     },
     "execution_count": 1480,
     "metadata": {},
     "output_type": "execute_result"
    }
   ],
   "source": [
    "len(code)"
   ]
  },
  {
   "cell_type": "code",
   "execution_count": 1481,
   "id": "3ae1de89-9f9d-4301-b0dc-5ab5c24499f8",
   "metadata": {},
   "outputs": [],
   "source": [
    "code = code[:10000]"
   ]
  },
  {
   "cell_type": "code",
   "execution_count": 1482,
   "id": "bac35301-dc37-4a98-8c54-3c0b9673f955",
   "metadata": {},
   "outputs": [
    {
     "name": "stdout",
     "output_type": "stream",
     "text": [
      "\n",
      "def greetname\n",
      "    return f\"hello {name}\"\n",
      "\n",
      "class person\n",
      "    def __init__self name age\n",
      "        selfname = name\n",
      "        selfage = age\n",
      "    \n",
      "    def introduceself\n",
      "        return f\"my name is {selfname} and i am {selfage} years old\"\n",
      "    \n",
      "    def birthdayself\n",
      "        selfage = 1\n",
      "        return f\"happy bir\n"
     ]
    }
   ],
   "source": [
    "print(code[:300])"
   ]
  },
  {
   "cell_type": "code",
   "execution_count": 1483,
   "id": "f83251f5-46d7-46d5-b403-51d653aed1e4",
   "metadata": {},
   "outputs": [
    {
     "data": {
      "text/plain": [
       "39"
      ]
     },
     "execution_count": 1483,
     "metadata": {},
     "output_type": "execute_result"
    }
   ],
   "source": [
    "unique_chars = sorted(list(set(code)))\n",
    "len(unique_chars)"
   ]
  },
  {
   "cell_type": "code",
   "execution_count": 1484,
   "id": "52e4e9fc-9046-4b90-8d6e-39d867e656e8",
   "metadata": {},
   "outputs": [
    {
     "data": {
      "text/plain": [
       "['\\n', ' ', '\"', '0', '1', '2', '3', '4', '5', '8']"
      ]
     },
     "execution_count": 1484,
     "metadata": {},
     "output_type": "execute_result"
    }
   ],
   "source": [
    "unique_chars[:10]"
   ]
  },
  {
   "cell_type": "code",
   "execution_count": 1485,
   "id": "9ba7a714-4430-4503-aaba-7801622ba479",
   "metadata": {},
   "outputs": [],
   "source": [
    "char_to_index = {char: index for index, char in enumerate(unique_chars)}"
   ]
  },
  {
   "cell_type": "code",
   "execution_count": 1486,
   "id": "dff0e8c0-ad53-426e-bf37-5eee48b3ff8c",
   "metadata": {},
   "outputs": [
    {
     "data": {
      "text/plain": [
       "'\\n \"01234589=_abcdefghijlmnoprstuvwxyz{}'"
      ]
     },
     "execution_count": 1486,
     "metadata": {},
     "output_type": "execute_result"
    }
   ],
   "source": [
    "\"\".join(char_to_index.keys())"
   ]
  },
  {
   "cell_type": "code",
   "execution_count": 1487,
   "id": "cc0a7f58-d03b-47e0-874a-f853744c73d7",
   "metadata": {},
   "outputs": [],
   "source": [
    "index_to_char = {index: char for index, char in enumerate(unique_chars)}"
   ]
  },
  {
   "cell_type": "code",
   "execution_count": 1488,
   "id": "cddf87d9-7b63-4835-b931-07ac7eb030fd",
   "metadata": {},
   "outputs": [
    {
     "data": {
      "text/plain": [
       "{0: '\\n',\n",
       " 1: ' ',\n",
       " 2: '\"',\n",
       " 3: '0',\n",
       " 4: '1',\n",
       " 5: '2',\n",
       " 6: '3',\n",
       " 7: '4',\n",
       " 8: '5',\n",
       " 9: '8',\n",
       " 10: '9',\n",
       " 11: '=',\n",
       " 12: '_',\n",
       " 13: 'a',\n",
       " 14: 'b',\n",
       " 15: 'c',\n",
       " 16: 'd',\n",
       " 17: 'e',\n",
       " 18: 'f',\n",
       " 19: 'g',\n",
       " 20: 'h',\n",
       " 21: 'i',\n",
       " 22: 'j',\n",
       " 23: 'l',\n",
       " 24: 'm',\n",
       " 25: 'n',\n",
       " 26: 'o',\n",
       " 27: 'p',\n",
       " 28: 'r',\n",
       " 29: 's',\n",
       " 30: 't',\n",
       " 31: 'u',\n",
       " 32: 'v',\n",
       " 33: 'w',\n",
       " 34: 'x',\n",
       " 35: 'y',\n",
       " 36: 'z',\n",
       " 37: '{',\n",
       " 38: '}'}"
      ]
     },
     "execution_count": 1488,
     "metadata": {},
     "output_type": "execute_result"
    }
   ],
   "source": [
    "index_to_char"
   ]
  },
  {
   "cell_type": "code",
   "execution_count": 1489,
   "id": "178f24d5-440a-42d8-9033-74644366010e",
   "metadata": {},
   "outputs": [],
   "source": [
    "class Vocab:\n",
    "\n",
    "    def __init__(self):\n",
    "        \n",
    "        self.chars: list = []\n",
    "        self.char_to_index = {}\n",
    "        self.index_to_char = {}\n",
    "\n",
    "    def fit(self, text: str):\n",
    "        self.chars = sorted(list(set(code)))\n",
    "        self.char_to_index = {char: index for index, char in enumerate(unique_chars)}\n",
    "        self.index_to_char = {index: char for index, char in enumerate(unique_chars)}\n",
    "\n",
    "    def size(self) -> int:\n",
    "        return len(self.chars)\n",
    "\n",
    "    def encode(self, chars: str) -> int:\n",
    "        return [self.char_to_index[char] for char in chars]\n",
    "\n",
    "    def decode(self, indexes: int) -> str:\n",
    "        return [self.index_to_char[index] for index in indexes]"
   ]
  },
  {
   "cell_type": "code",
   "execution_count": 1490,
   "id": "2718e8d9-6cbf-4ed8-9a79-b6a809c2f7b8",
   "metadata": {},
   "outputs": [],
   "source": [
    "vocab = Vocab()"
   ]
  },
  {
   "cell_type": "code",
   "execution_count": 1491,
   "id": "2f52913d-2155-49f5-8400-f4681c54550c",
   "metadata": {},
   "outputs": [],
   "source": [
    "vocab.fit(code)"
   ]
  },
  {
   "cell_type": "code",
   "execution_count": 1492,
   "id": "c5747faa-32c7-41b3-8b21-187c52b172a9",
   "metadata": {},
   "outputs": [
    {
     "data": {
      "text/plain": [
       "39"
      ]
     },
     "execution_count": 1492,
     "metadata": {},
     "output_type": "execute_result"
    }
   ],
   "source": [
    "vocab.size()"
   ]
  },
  {
   "cell_type": "code",
   "execution_count": 1493,
   "id": "03c70ce6-a9ab-49e3-886c-152183f9c8b6",
   "metadata": {},
   "outputs": [
    {
     "data": {
      "text/plain": [
       "['\\n', ' ', '\"', '0', '1', '2', '3', '4', '5', '8']"
      ]
     },
     "execution_count": 1493,
     "metadata": {},
     "output_type": "execute_result"
    }
   ],
   "source": [
    "vocab.chars[:10]"
   ]
  },
  {
   "cell_type": "code",
   "execution_count": 1494,
   "id": "c9d1f38c-b791-4c15-bf5d-08402086903f",
   "metadata": {},
   "outputs": [
    {
     "data": {
      "text/plain": [
       "[15, 23, 13, 29, 29]"
      ]
     },
     "execution_count": 1494,
     "metadata": {},
     "output_type": "execute_result"
    }
   ],
   "source": [
    "vocab.encode(\"class\")"
   ]
  },
  {
   "cell_type": "code",
   "execution_count": 1495,
   "id": "6687d0e1-7671-4652-82a8-7f6a7124c706",
   "metadata": {},
   "outputs": [
    {
     "data": {
      "text/plain": [
       "['3', 'c', '1', 'j', 'j']"
      ]
     },
     "execution_count": 1495,
     "metadata": {},
     "output_type": "execute_result"
    }
   ],
   "source": [
    "vocab.decode([6, 15, 4, 22, 22])"
   ]
  },
  {
   "cell_type": "markdown",
   "id": "5c9a82fe-21f4-4f21-8a07-6a9c800647df",
   "metadata": {},
   "source": [
    "## 02. Build The CodeDataset "
   ]
  },
  {
   "cell_type": "code",
   "execution_count": 1496,
   "id": "6536b64d-9877-41c9-893b-08ac314af5c0",
   "metadata": {},
   "outputs": [
    {
     "data": {
      "text/plain": [
       "1582"
      ]
     },
     "execution_count": 1496,
     "metadata": {},
     "output_type": "execute_result"
    }
   ],
   "source": [
    "len(code)"
   ]
  },
  {
   "cell_type": "code",
   "execution_count": 1497,
   "id": "7dda447d-634d-4c9c-894b-bcfefa0ccb6f",
   "metadata": {},
   "outputs": [
    {
     "data": {
      "text/plain": [
       "'\\ndef'"
      ]
     },
     "execution_count": 1497,
     "metadata": {},
     "output_type": "execute_result"
    }
   ],
   "source": [
    "code[0:4]"
   ]
  },
  {
   "cell_type": "code",
   "execution_count": 1498,
   "id": "3f95edf8-7b2e-44ff-b263-2d20fb71c9f5",
   "metadata": {},
   "outputs": [
    {
     "data": {
      "text/plain": [
       "' '"
      ]
     },
     "execution_count": 1498,
     "metadata": {},
     "output_type": "execute_result"
    }
   ],
   "source": [
    "code[4]"
   ]
  },
  {
   "cell_type": "code",
   "execution_count": 1499,
   "id": "15e9bdef-c7c6-4d1e-bbc9-b05ebb980e65",
   "metadata": {},
   "outputs": [
    {
     "data": {
      "text/plain": [
       "1582"
      ]
     },
     "execution_count": 1499,
     "metadata": {},
     "output_type": "execute_result"
    }
   ],
   "source": [
    "len(code)"
   ]
  },
  {
   "cell_type": "code",
   "execution_count": 1500,
   "id": "839e6898-2535-4bfd-b16e-8d8eb325fa9d",
   "metadata": {},
   "outputs": [],
   "source": [
    "context_size = 2"
   ]
  },
  {
   "cell_type": "code",
   "execution_count": 1501,
   "id": "f8c7feee-46ae-4430-b678-9ae42731424c",
   "metadata": {},
   "outputs": [],
   "source": [
    "inputs , target = [], []\n",
    "for i in range(0, len(code) - context_size):\n",
    "    inputs.append(vocab.encode(code[i:i+context_size]))\n",
    "    target.append(vocab.encode(code[i+context_size]))"
   ]
  },
  {
   "cell_type": "code",
   "execution_count": 1502,
   "id": "710284f1-0768-4333-ad77-a2fb26964978",
   "metadata": {},
   "outputs": [
    {
     "data": {
      "text/plain": [
       "[31, 28]"
      ]
     },
     "execution_count": 1502,
     "metadata": {},
     "output_type": "execute_result"
    }
   ],
   "source": [
    "inputs[22]"
   ]
  },
  {
   "cell_type": "code",
   "execution_count": 1503,
   "id": "899fc2cf-362f-4159-8caa-48ade6a6272c",
   "metadata": {},
   "outputs": [
    {
     "name": "stdout",
     "output_type": "stream",
     "text": [
      "[25]\n"
     ]
    }
   ],
   "source": [
    "print(target[22])"
   ]
  },
  {
   "cell_type": "code",
   "execution_count": 1504,
   "id": "b733cdfd-5473-411d-a71d-e58cef437ec5",
   "metadata": {},
   "outputs": [],
   "source": [
    "class CodeDatasetLangaugeModel(Dataset):\n",
    "\n",
    "    def __init__(\n",
    "        self,\n",
    "        code: str,\n",
    "        vocab: Vocab,\n",
    "        context_size: int = 3\n",
    "    ):\n",
    "        super(CodeDatasetLangaugeModel, self).__init__()\n",
    "\n",
    "        self.context_size: int = context_size\n",
    "        self.vocab: Vocab = vocab\n",
    "        \n",
    "        self.inputs, self.targets = self._code_to_tensors(code=code)\n",
    "        \n",
    "    def _code_to_tensors(self, code):\n",
    "        inputs , targets = [], []\n",
    "        for i in range(0, len(code) - self.context_size):\n",
    "            inputs.append(self.vocab.encode(code[i:i+self.context_size]))\n",
    "            targets.append(self.vocab.encode(code[i+self.context_size]))\n",
    "\n",
    "        inputs = torch.tensor(inputs).type(torch.long)\n",
    "        targets = torch.tensor(targets).type(torch.long).flatten()\n",
    "        \n",
    "        return inputs, targets\n",
    "\n",
    "    def __len__(self) -> int:\n",
    "        return self.inputs.shape[0]\n",
    "\n",
    "    def __getitem__(self, index: int):\n",
    "        return self.inputs[index], self.targets[index]"
   ]
  },
  {
   "cell_type": "code",
   "execution_count": 1505,
   "id": "db32bfae-30f3-4923-ae2c-bdcfd403d1ab",
   "metadata": {},
   "outputs": [],
   "source": [
    "context_size= 3"
   ]
  },
  {
   "cell_type": "code",
   "execution_count": 1506,
   "id": "dd0f0a36-6263-470e-93de-4c8e44ab82ec",
   "metadata": {},
   "outputs": [],
   "source": [
    "code_dataset = CodeDatasetLangaugeModel(\n",
    "    code= code,\n",
    "    vocab= vocab,\n",
    "    context_size= context_size\n",
    ")"
   ]
  },
  {
   "cell_type": "code",
   "execution_count": 1507,
   "id": "1dfee653-727c-4716-9b6e-ecbef380ac3c",
   "metadata": {},
   "outputs": [
    {
     "data": {
      "text/plain": [
       "(tensor([[ 0, 16, 17],\n",
       "         [16, 17, 18],\n",
       "         [17, 18,  1],\n",
       "         [18,  1, 19],\n",
       "         [ 1, 19, 28]]),\n",
       " tensor([18,  1, 19, 28, 17]))"
      ]
     },
     "execution_count": 1507,
     "metadata": {},
     "output_type": "execute_result"
    }
   ],
   "source": [
    "code_dataset[0:5]"
   ]
  },
  {
   "cell_type": "code",
   "execution_count": 1546,
   "id": "dba98591-0b34-4501-8a3a-d9941be1e87a",
   "metadata": {},
   "outputs": [],
   "source": [
    "loader = DataLoader(\n",
    "    dataset= code_dataset,\n",
    "    batch_size= 32,\n",
    "    shuffle=True\n",
    ")"
   ]
  },
  {
   "cell_type": "code",
   "execution_count": 1547,
   "id": "76a7559a-2397-4c1d-a289-03a2b26e83d0",
   "metadata": {},
   "outputs": [
    {
     "data": {
      "text/plain": [
       "50"
      ]
     },
     "execution_count": 1547,
     "metadata": {},
     "output_type": "execute_result"
    }
   ],
   "source": [
    "len(iter(loader))"
   ]
  },
  {
   "cell_type": "markdown",
   "id": "075fbea5-feab-429a-be98-96f3e9355881",
   "metadata": {},
   "source": [
    "## 03. Build NGramLanguageModel"
   ]
  },
  {
   "cell_type": "code",
   "execution_count": 1548,
   "id": "f7bf5739-b8a7-438d-9a72-1ffc537b8a73",
   "metadata": {},
   "outputs": [],
   "source": [
    "class NGramLanguageModel(nn.Module):\n",
    "\n",
    "    def __init__(\n",
    "        self,\n",
    "        vocab_size: int,\n",
    "        emb_dim: int = 32,\n",
    "        hidden_dim: int= 128,\n",
    "        num_layers= 5,\n",
    "    ):\n",
    "        super(NGramLanguageModel, self).__init__()\n",
    "\n",
    "        self.num_layers = num_layers\n",
    "        self.hidden_dim = hidden_dim\n",
    "        \n",
    "        self.chars_embs = nn.Embedding(\n",
    "            num_embeddings= vocab_size,\n",
    "            embedding_dim= vocab_size\n",
    "        )\n",
    "        \n",
    "        self.rnn = nn.LSTM(\n",
    "            input_size= vocab_size,\n",
    "            hidden_size= hidden_dim,\n",
    "            num_layers=num_layers, \n",
    "            batch_first= True,\n",
    "        )\n",
    "\n",
    "        self.fc = nn.Sequential(\n",
    "            nn.Linear(hidden_dim, 64), \n",
    "            nn.ReLU(True),\n",
    "            nn.Linear(64, vocab_size),\n",
    "            nn.Softmax(dim=1)\n",
    "        )\n",
    "\n",
    "    def  forward(self, x: torch.Tensor):\n",
    "\n",
    "        x = self.chars_embs(x)\n",
    "\n",
    "        if x.ndim == 2:\n",
    "            x = x.unsqueeze(0)\n",
    "        \n",
    "        batch_size = x.shape[0]\n",
    "            \n",
    "        hn = torch.randn(self.num_layers, batch_size, self.hidden_dim)\n",
    "        cn = torch.randn(self.num_layers, batch_size, self.hidden_dim)\n",
    "\n",
    "        x, _ = self.rnn(x, (hn, cn))\n",
    "\n",
    "        return self.fc(x[:, -1, :])"
   ]
  },
  {
   "cell_type": "code",
   "execution_count": 1591,
   "id": "641181d1-99e7-4eb9-b90f-1b17a594c1e7",
   "metadata": {},
   "outputs": [],
   "source": [
    "class MlpLanguageModel(nn.Module):\n",
    "    \n",
    "    def __init__(self, vocab_size, context_length, embedding_size, hidden_size):\n",
    "        super().__init__()\n",
    "        self.wte = nn.Embedding(vocab_size, embedding_size) # token embedding table\n",
    "\n",
    "        self.mlp = nn.Sequential(\n",
    "            nn.Linear(embedding_size, hidden_size),\n",
    "            nn.Tanh(),\n",
    "            nn.GELU(),\n",
    "            nn.Linear(hidden_size, vocab_size)\n",
    "        )\n",
    "\n",
    "    def propogate(self, x):\n",
    "\n",
    "        _, T, C = x.shape\n",
    "\n",
    "        w = torch.tril(\n",
    "            torch.ones(T, T)\n",
    "        )\n",
    "\n",
    "        w /= w.sum(dim=1, keepdim=True)\n",
    "\n",
    "        return w @ x\n",
    "\n",
    "    def forward(self, idx, targets=None):\n",
    "        \n",
    "        if idx.ndim == 1: idx = idx.unsqueeze(0)\n",
    "            \n",
    "        B, T = idx.size()\n",
    "        \n",
    "        x = self.wte(idx) # (B, T, embedding_size)\n",
    "        \n",
    "        emb = x.view(B, -1) # (B, T * embedding_size)\n",
    "        \n",
    "        # x = self.propogate(x)\n",
    "        \n",
    "        logits = self.mlp(x[:, -1, :])\n",
    "\n",
    "        return F.softmax(logits, dim=1)"
   ]
  },
  {
   "cell_type": "code",
   "execution_count": 1592,
   "id": "926caeb4-0a3e-47ad-97f6-04169c07ee46",
   "metadata": {},
   "outputs": [
    {
     "data": {
      "text/plain": [
       "tensor([[0., 0., 0., 0.],\n",
       "        [0., 0., 0., 0.],\n",
       "        [0., 0., 0., 0.],\n",
       "        [0., 0., 0., 0.]])"
      ]
     },
     "execution_count": 1592,
     "metadata": {},
     "output_type": "execute_result"
    }
   ],
   "source": [
    "torch.tril(torch.zeros(4, 4))"
   ]
  },
  {
   "cell_type": "code",
   "execution_count": 1593,
   "id": "102eefec-6b3e-473b-8e45-89c09195f179",
   "metadata": {},
   "outputs": [],
   "source": [
    "# model = NGramLanguageModel(\n",
    "#     vocab_size= vocab.size()\n",
    "# )\n",
    "\n",
    "model = MlpLanguageModel(\n",
    "    vocab_size= vocab.size(),\n",
    "    context_length= context_size,\n",
    "    embedding_size= 10,\n",
    "    hidden_size= 512\n",
    ")"
   ]
  },
  {
   "cell_type": "code",
   "execution_count": 1594,
   "id": "a1eca40b-36dc-4341-a363-89b58c94169a",
   "metadata": {},
   "outputs": [
    {
     "data": {
      "text/plain": [
       "MlpLanguageModel(\n",
       "  (wte): Embedding(39, 10)\n",
       "  (mlp): Sequential(\n",
       "    (0): Linear(in_features=10, out_features=512, bias=True)\n",
       "    (1): Tanh()\n",
       "    (2): GELU(approximate='none')\n",
       "    (3): Linear(in_features=512, out_features=39, bias=True)\n",
       "  )\n",
       ")"
      ]
     },
     "execution_count": 1594,
     "metadata": {},
     "output_type": "execute_result"
    }
   ],
   "source": [
    "model"
   ]
  },
  {
   "cell_type": "code",
   "execution_count": 1595,
   "id": "20f26fe4-cbcc-45ac-97df-268c1e77112a",
   "metadata": {},
   "outputs": [],
   "source": [
    "x, y = code_dataset[0:1]"
   ]
  },
  {
   "cell_type": "code",
   "execution_count": 1596,
   "id": "502bf712-1e15-4ee8-9615-b8f827cdf407",
   "metadata": {},
   "outputs": [
    {
     "data": {
      "text/plain": [
       "tensor([[ 0, 16, 17]])"
      ]
     },
     "execution_count": 1596,
     "metadata": {},
     "output_type": "execute_result"
    }
   ],
   "source": [
    "x"
   ]
  },
  {
   "cell_type": "code",
   "execution_count": 1597,
   "id": "5471fd4c-d1d9-49cb-be57-7fe76b811797",
   "metadata": {},
   "outputs": [
    {
     "data": {
      "text/plain": [
       "torch.Size([1, 3])"
      ]
     },
     "execution_count": 1597,
     "metadata": {},
     "output_type": "execute_result"
    }
   ],
   "source": [
    "x.shape"
   ]
  },
  {
   "cell_type": "code",
   "execution_count": 1598,
   "id": "9a3262fe-a4a5-4631-adec-9c1db03bc418",
   "metadata": {},
   "outputs": [
    {
     "data": {
      "text/plain": [
       "torch.Size([1, 39])"
      ]
     },
     "execution_count": 1598,
     "metadata": {},
     "output_type": "execute_result"
    }
   ],
   "source": [
    "model(x).shape"
   ]
  },
  {
   "cell_type": "code",
   "execution_count": 1599,
   "id": "3936dbbe-d715-40a1-a701-a159d1d2f1fa",
   "metadata": {},
   "outputs": [],
   "source": [
    "def generate_code(\n",
    "    model: nn.Module,\n",
    "    vocab: Vocab,\n",
    "    start_chars: str,\n",
    "    max_tokens: int = 100,\n",
    "    wait_time: float = 0.005\n",
    "):\n",
    "    encode_chars = vocab.encode(start_chars)\n",
    "    \n",
    "    chars = encode_chars.copy()\n",
    "\n",
    "    indexes = list(range(vocab.size()))\n",
    "\n",
    "    print(start_chars, end=\"\")\n",
    "\n",
    "    for _ in range(max_tokens):\n",
    "        \n",
    "        x = torch.tensor(chars).type(torch.long)\n",
    "        \n",
    "        probs = model(x).detach()\n",
    "        \n",
    "        pred =  torch.multinomial(probs, num_samples=1).item()\n",
    "        \n",
    "        tmp = chars.copy()\n",
    "        chars[:-1] = tmp[1:]\n",
    "        chars[-1] = pred\n",
    "\n",
    "        time.sleep(wait_time)\n",
    "        \n",
    "        print(vocab.decode([pred])[0], end=\"\")"
   ]
  },
  {
   "cell_type": "code",
   "execution_count": 1600,
   "id": "d5e563bb-91a9-42a7-bc91-c0cbec9fc1dc",
   "metadata": {},
   "outputs": [
    {
     "name": "stdout",
     "output_type": "stream",
     "text": [
      "pythona}lr=ce_u5neij13{yeseyp  3x\"_y\"g{vbd2_ge9l9evt_niohdywfpcn\n",
      "zojw8_94w48buuc_p{wgt \n",
      "uz1io=_r{4\n",
      "x l}vduldvsh=49 p0whnvsbx8nt9odnf8j3xm\n",
      "zxb{a{rljnnw\n",
      "awcz{9d \n",
      " iggaf2ip{i_0\"zifo\"8hbag=0gsgzg9b\n",
      "{vym3\"e4htwy3}j\"1o}=tipni_=4a4vnp\n",
      "bgih2zz nptt=2r wdb9{}9a hj4 jgyb8 u}=\"wis0orl4js_\n",
      "ozzta\"1v9fpttm_0t_b22bh8\n",
      "hc"
     ]
    }
   ],
   "source": [
    "generate_code(\n",
    "    model= model, \n",
    "    vocab= vocab,\n",
    "    start_chars=\"python\",\n",
    "    max_tokens= 300 \n",
    ")"
   ]
  },
  {
   "cell_type": "code",
   "execution_count": 1601,
   "id": "ecda47cb-db23-4e08-b1fb-cede7635ec0e",
   "metadata": {},
   "outputs": [],
   "source": [
    "criterion = nn.CrossEntropyLoss()"
   ]
  },
  {
   "cell_type": "code",
   "execution_count": 1611,
   "id": "c33ce4bb-c1f0-4122-bee4-76e1b9ee4a59",
   "metadata": {},
   "outputs": [],
   "source": [
    "opt = optim.AdamW(model.parameters(), lr=1e-3, weight_decay=1e-4)"
   ]
  },
  {
   "cell_type": "code",
   "execution_count": 1612,
   "id": "2aebcf38-72c9-489a-a80b-7c105eaec033",
   "metadata": {},
   "outputs": [],
   "source": [
    "def train(\n",
    "    model: nn.Module,\n",
    "    loader: DataLoader,\n",
    "    epochs: int,\n",
    "    criterion,\n",
    "    opt\n",
    "):\n",
    "\n",
    "    for epoch in range(epochs):\n",
    "\n",
    "        total_loss = 0\n",
    "\n",
    "        for inputs, targets in loader:\n",
    "\n",
    "            opt.zero_grad()\n",
    "            \n",
    "            pred = model(inputs)\n",
    "\n",
    "            loss = criterion(pred, targets)\n",
    "\n",
    "            total_loss += loss.item()\n",
    "            \n",
    "            loss.backward()\n",
    "\n",
    "            opt.step()\n",
    "\n",
    "        if epoch%10 == 0: print(f\"Epoch: {epoch}/{epochs} | loss: {total_loss/len(loader):.5f}\")"
   ]
  },
  {
   "cell_type": "code",
   "execution_count": null,
   "id": "ff2acc3d-e4c5-43c1-b6dd-e015d4395a57",
   "metadata": {},
   "outputs": [
    {
     "name": "stdout",
     "output_type": "stream",
     "text": [
      "Epoch: 0/1000 | loss: 3.28373\n",
      "Epoch: 10/1000 | loss: 3.28492\n",
      "Epoch: 20/1000 | loss: 3.28134\n",
      "Epoch: 30/1000 | loss: 3.28611\n",
      "Epoch: 40/1000 | loss: 3.28134\n",
      "Epoch: 50/1000 | loss: 3.28372\n",
      "Epoch: 60/1000 | loss: 3.28134\n",
      "Epoch: 70/1000 | loss: 3.28253\n",
      "Epoch: 80/1000 | loss: 3.28253\n",
      "Epoch: 90/1000 | loss: 3.28134\n",
      "Epoch: 100/1000 | loss: 3.28492\n",
      "Epoch: 110/1000 | loss: 3.28372\n",
      "Epoch: 120/1000 | loss: 3.28134\n",
      "Epoch: 130/1000 | loss: 3.28134\n",
      "Epoch: 140/1000 | loss: 3.28134\n",
      "Epoch: 150/1000 | loss: 3.28014\n",
      "Epoch: 160/1000 | loss: 3.28134\n",
      "Epoch: 170/1000 | loss: 3.28014\n",
      "Epoch: 180/1000 | loss: 3.28253\n",
      "Epoch: 190/1000 | loss: 3.28253\n",
      "Epoch: 200/1000 | loss: 3.28253\n",
      "Epoch: 210/1000 | loss: 3.28014\n",
      "Epoch: 220/1000 | loss: 3.27776\n",
      "Epoch: 230/1000 | loss: 3.27895\n",
      "Epoch: 240/1000 | loss: 3.28134\n",
      "Epoch: 250/1000 | loss: 3.27895\n",
      "Epoch: 260/1000 | loss: 3.28134\n",
      "Epoch: 270/1000 | loss: 3.27895\n",
      "Epoch: 280/1000 | loss: 3.27895\n",
      "Epoch: 290/1000 | loss: 3.28253\n",
      "Epoch: 300/1000 | loss: 3.28253\n",
      "Epoch: 310/1000 | loss: 3.27895\n",
      "Epoch: 320/1000 | loss: 3.28253\n",
      "Epoch: 330/1000 | loss: 3.28014\n",
      "Epoch: 340/1000 | loss: 3.28014\n",
      "Epoch: 350/1000 | loss: 3.28134\n",
      "Epoch: 360/1000 | loss: 3.27776\n",
      "Epoch: 370/1000 | loss: 3.28253\n",
      "Epoch: 380/1000 | loss: 3.28134\n",
      "Epoch: 390/1000 | loss: 3.27895\n",
      "Epoch: 400/1000 | loss: 3.28134\n",
      "Epoch: 410/1000 | loss: 3.28372\n",
      "Epoch: 420/1000 | loss: 3.28372\n",
      "Epoch: 430/1000 | loss: 3.28014\n",
      "Epoch: 440/1000 | loss: 3.28014\n",
      "Epoch: 450/1000 | loss: 3.28611\n",
      "Epoch: 460/1000 | loss: 3.28611\n",
      "Epoch: 470/1000 | loss: 3.28134\n",
      "Epoch: 480/1000 | loss: 3.28014\n",
      "Epoch: 490/1000 | loss: 3.28134\n",
      "Epoch: 500/1000 | loss: 3.28509\n"
     ]
    }
   ],
   "source": [
    "train(\n",
    "    model= model,\n",
    "    loader= loader,\n",
    "    criterion= criterion,\n",
    "    opt= opt,\n",
    "    epochs= 1000\n",
    ")"
   ]
  },
  {
   "cell_type": "code",
   "execution_count": 1608,
   "id": "cef117c0-1677-4067-a5ae-31685bba2fb2",
   "metadata": {},
   "outputs": [
    {
     "name": "stdout",
     "output_type": "stream",
     "text": [
      "de                                                                                                   "
     ]
    }
   ],
   "source": [
    "generate_code(\n",
    "    model= model, \n",
    "    vocab= vocab,\n",
    "    start_chars=\"d\",\n",
    "    max_tokens= 100\n",
    ")"
   ]
  },
  {
   "cell_type": "code",
   "execution_count": null,
   "id": "3726e4fc-4c70-43bf-9d20-879b440c11d8",
   "metadata": {},
   "outputs": [],
   "source": []
  },
  {
   "cell_type": "code",
   "execution_count": null,
   "id": "7e8d5328-d6be-47a6-ab21-aeab5d8dd008",
   "metadata": {},
   "outputs": [],
   "source": []
  }
 ],
 "metadata": {
  "kernelspec": {
   "display_name": "Python 3 (ipykernel)",
   "language": "python",
   "name": "python3"
  },
  "language_info": {
   "codemirror_mode": {
    "name": "ipython",
    "version": 3
   },
   "file_extension": ".py",
   "mimetype": "text/x-python",
   "name": "python",
   "nbconvert_exporter": "python",
   "pygments_lexer": "ipython3",
   "version": "3.11.6"
  }
 },
 "nbformat": 4,
 "nbformat_minor": 5
}
